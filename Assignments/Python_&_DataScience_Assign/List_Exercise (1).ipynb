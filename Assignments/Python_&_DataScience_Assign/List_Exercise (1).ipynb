{
  "nbformat": 4,
  "nbformat_minor": 0,
  "metadata": {
    "colab": {
      "provenance": []
    },
    "kernelspec": {
      "name": "python3",
      "display_name": "Python 3"
    },
    "language_info": {
      "name": "python"
    }
  },
  "cells": [
    {
      "cell_type": "code",
      "execution_count": null,
      "metadata": {
        "id": "t5dfWL4vWc5J"
      },
      "outputs": [],
      "source": [
        "##List Exercise"
      ]
    },
    {
      "cell_type": "code",
      "source": [
        "## 1\n",
        "numbers = [1,7,-10,34,2,-8]\n",
        "total_sum = sum(numbers)\n",
        "print(f\"Sum all the items =  {total_sum}\")"
      ],
      "metadata": {
        "colab": {
          "base_uri": "https://localhost:8080/"
        },
        "id": "JZWnT6BKyx_S",
        "outputId": "f478da3f-ac9c-4ff6-9848-deeafb49cec0"
      },
      "execution_count": null,
      "outputs": [
        {
          "output_type": "stream",
          "name": "stdout",
          "text": [
            "Sum all the items =  26\n"
          ]
        }
      ]
    },
    {
      "cell_type": "code",
      "source": [
        "## 2\n",
        "numbers2 = [3,4,5,4,7]\n",
        "product = 1\n",
        "\n",
        "for num in numbers2:\n",
        "  product *= num\n",
        "\n",
        "print(f\"Multiplication all the items =  {product}\")"
      ],
      "metadata": {
        "colab": {
          "base_uri": "https://localhost:8080/"
        },
        "id": "743z4fXBzPSx",
        "outputId": "c3b2884a-2211-4ac5-e51c-a69146ee918d"
      },
      "execution_count": null,
      "outputs": [
        {
          "output_type": "stream",
          "name": "stdout",
          "text": [
            "Multiplication all the items =  1680\n"
          ]
        }
      ]
    },
    {
      "cell_type": "code",
      "source": [
        "## 3\n",
        "numbers3 = [1,7,10,34,2,8]\n",
        "max_num = max(numbers3)\n",
        "\n",
        "print(f\"Largest number = {max_num}\")"
      ],
      "metadata": {
        "colab": {
          "base_uri": "https://localhost:8080/"
        },
        "id": "6FOrM9YJzpoa",
        "outputId": "9f3a6e0d-cffa-4246-8e61-0c7b410d588e"
      },
      "execution_count": null,
      "outputs": [
        {
          "output_type": "stream",
          "name": "stdout",
          "text": [
            "Largest number = 34\n"
          ]
        }
      ]
    },
    {
      "cell_type": "code",
      "source": [
        "##4\n",
        "numbers4 = [51,7,10,34,2,8]\n",
        "min_num = min(numbers4)\n",
        "\n",
        "print(f\"Smallest number = {min_num}\")"
      ],
      "metadata": {
        "colab": {
          "base_uri": "https://localhost:8080/"
        },
        "id": "AyZyUWxr02VJ",
        "outputId": "d6c70d6f-e83e-4aeb-b14b-e79a24dbfd89"
      },
      "execution_count": null,
      "outputs": [
        {
          "output_type": "stream",
          "name": "stdout",
          "text": [
            "Smallest number = 2\n"
          ]
        }
      ]
    },
    {
      "cell_type": "code",
      "source": [
        "##5\n",
        "str1 = ['abc', 'xyz', 'aba', '1221']\n",
        "count = 0\n",
        "\n",
        "for string in str1:\n",
        "  if len(string) >= 2 and string[0] == string[-1]:\n",
        "    count += 1\n",
        "\n",
        "print(f\"First and Last character are same: {count}\")"
      ],
      "metadata": {
        "colab": {
          "base_uri": "https://localhost:8080/"
        },
        "id": "JkBSndtO1NpI",
        "outputId": "0947466a-5f00-4487-803f-282f09b57d1c"
      },
      "execution_count": null,
      "outputs": [
        {
          "output_type": "stream",
          "name": "stdout",
          "text": [
            "First and Last character are same: 2\n"
          ]
        }
      ]
    },
    {
      "cell_type": "code",
      "source": [
        "##6\n",
        "numbers5 = [1,2,3,7,2,1,5,6,4,8,5,4]\n",
        "unique_num = set(numbers5)\n",
        "\n",
        "print(f\"unique numbers = {unique_num}\")"
      ],
      "metadata": {
        "colab": {
          "base_uri": "https://localhost:8080/"
        },
        "id": "cKwAw7Jt2zuW",
        "outputId": "0638fc3d-0cd3-457c-c4bf-3468c6b4a9b1"
      },
      "execution_count": null,
      "outputs": [
        {
          "output_type": "stream",
          "name": "stdout",
          "text": [
            "unique numbers = {1, 2, 3, 4, 5, 6, 7, 8}\n"
          ]
        }
      ]
    },
    {
      "cell_type": "code",
      "source": [
        "##7\n",
        "list1 = [34,45,6,5,4,56,7]\n",
        "\n",
        "if not list1:\n",
        "  print(\"List is empty\")\n",
        "else:\n",
        "  print(\"list is not empty\")"
      ],
      "metadata": {
        "colab": {
          "base_uri": "https://localhost:8080/"
        },
        "id": "ejjKKf583h64",
        "outputId": "7b727076-fae1-4118-887e-02111062f8be"
      },
      "execution_count": null,
      "outputs": [
        {
          "output_type": "stream",
          "name": "stdout",
          "text": [
            "list is not empty\n"
          ]
        }
      ]
    },
    {
      "cell_type": "code",
      "source": [
        "##8\n",
        "list2 = [10, 22, 44, 23, 4]\n",
        "lists = list2.copy()\n",
        "print(\"Clone or copy a list\", lists)"
      ],
      "metadata": {
        "colab": {
          "base_uri": "https://localhost:8080/"
        },
        "id": "QS9kX_-74Kxg",
        "outputId": "409d67d6-3051-431b-ddc9-a7292c39e796"
      },
      "execution_count": null,
      "outputs": [
        {
          "output_type": "stream",
          "name": "stdout",
          "text": [
            "Clone or copy a list [10, 22, 44, 23, 4]\n"
          ]
        }
      ]
    },
    {
      "cell_type": "code",
      "source": [
        "##9\n",
        "str2 = ['Words', 'Longer', 'given', 'Words']\n",
        "count = 0\n",
        "n=4\n",
        "for string in str2:\n",
        "  if len(string) > n:\n",
        "    count += 1\n",
        "\n",
        "print(\"words longer than n are:\", count)"
      ],
      "metadata": {
        "colab": {
          "base_uri": "https://localhost:8080/"
        },
        "id": "ZDWlSf9V4j2D",
        "outputId": "2f973a6c-51a4-4fec-a665-9fa425ad5876"
      },
      "execution_count": null,
      "outputs": [
        {
          "output_type": "stream",
          "name": "stdout",
          "text": [
            "words longer than n are: 4\n"
          ]
        }
      ]
    },
    {
      "cell_type": "code",
      "source": [
        "##10\n",
        "str3 = [1,2,3,4,5]\n",
        "str4 = [5,6,7,8,9]\n",
        "\n",
        "common_member = False\n",
        "\n",
        "for item in str3:\n",
        "  if item in str4:\n",
        "    common_member = True\n",
        "    break\n",
        "\n",
        "if common_member:\n",
        "    print(\"List have atleast one common member\")\n",
        "else:\n",
        "    print(\"List do not have common member\")"
      ],
      "metadata": {
        "colab": {
          "base_uri": "https://localhost:8080/"
        },
        "id": "9wredps86lRh",
        "outputId": "ab28d2a2-0623-4ea0-f703-c56d23418cb8"
      },
      "execution_count": null,
      "outputs": [
        {
          "output_type": "stream",
          "name": "stdout",
          "text": [
            "List have atleast one common member\n"
          ]
        }
      ]
    },
    {
      "cell_type": "code",
      "source": [
        "##11\n",
        "str5 = [\"Cat\", \"Dog\", \"Elephant\", \"Fox\", \"Tiger\", \"Lion\", \"Ponda\"]\n",
        "\n",
        "indices_to_remove = {0,4,5}\n",
        "\n",
        "filtered_list = [animal for i, animal in enumerate(str5) if i not in indices_to_remove]\n",
        "print(f\"new animal list is {filtered_list}\")"
      ],
      "metadata": {
        "id": "wEwWq1_lCRrz",
        "colab": {
          "base_uri": "https://localhost:8080/"
        },
        "outputId": "72322551-571f-4780-8579-8a148ed1d455"
      },
      "execution_count": 4,
      "outputs": [
        {
          "output_type": "stream",
          "name": "stdout",
          "text": [
            "new animal list is ['Dog', 'Elephant', 'Fox', 'Ponda']\n"
          ]
        }
      ]
    },
    {
      "cell_type": "code",
      "source": [
        "##12\n",
        "str6 = [7,32,81,20,25,14,23,27]\n",
        "\n",
        "odd_list = [num for num in str6 if num%2 != 0]\n",
        "\n",
        "print(f\"New list is {odd_list}\")"
      ],
      "metadata": {
        "colab": {
          "base_uri": "https://localhost:8080/"
        },
        "id": "-aJe0d5iz_zR",
        "outputId": "da0194d7-bd7b-4b6b-83c3-ebc8e3d698ba"
      },
      "execution_count": 8,
      "outputs": [
        {
          "output_type": "stream",
          "name": "stdout",
          "text": [
            "New list is [7, 81, 25, 23, 27]\n"
          ]
        }
      ]
    },
    {
      "cell_type": "code",
      "source": [
        "##13\n",
        "import random\n",
        "\n",
        "str7 = [\"Cat\", \"Dog\", \"Elephant\", \"Fox\", \"Tiger\", \"Lion\", \"Ponda\"]\n",
        "\n",
        "random.shuffle(str7)\n",
        "\n",
        "print(f\"shuffles list is {str7}\")"
      ],
      "metadata": {
        "colab": {
          "base_uri": "https://localhost:8080/"
        },
        "id": "sY-83mam1WPq",
        "outputId": "59f673aa-dbd6-4ee2-8b4f-af1036895283"
      },
      "execution_count": 9,
      "outputs": [
        {
          "output_type": "stream",
          "name": "stdout",
          "text": [
            "shuffles list is ['Cat', 'Dog', 'Ponda', 'Lion', 'Elephant', 'Fox', 'Tiger']\n"
          ]
        }
      ]
    },
    {
      "cell_type": "code",
      "source": [
        "##14\n",
        "squares = [i**2 for i in range(1,30)]\n",
        "\n",
        "first_five = squares[:5]\n",
        "\n",
        "last_five = squares[-5:]\n",
        "\n",
        "print(f\"first five elements are {first_five}\")\n",
        "print(f\"last five elements are {last_five}\")"
      ],
      "metadata": {
        "colab": {
          "base_uri": "https://localhost:8080/"
        },
        "id": "uAIez2IG2PFU",
        "outputId": "fa1d94fc-f998-403b-ed72-74598829a8b0"
      },
      "execution_count": 13,
      "outputs": [
        {
          "output_type": "stream",
          "name": "stdout",
          "text": [
            "first five elements are [1, 4, 9, 16, 25]\n",
            "last five elements are [625, 676, 729, 784, 841]\n"
          ]
        }
      ]
    },
    {
      "cell_type": "code",
      "source": [
        "##15\n",
        "import itertools\n",
        "\n",
        "numbers = [1,2,3]\n",
        "\n",
        "permutations = list(itertools.permutations(numbers))\n",
        "print(f\"Permutations of the list is {permutations}\")"
      ],
      "metadata": {
        "colab": {
          "base_uri": "https://localhost:8080/"
        },
        "id": "i00baKJO3Ra4",
        "outputId": "9d0c991e-0181-4526-8c6d-ce7e7b6aa1b3"
      },
      "execution_count": 14,
      "outputs": [
        {
          "output_type": "stream",
          "name": "stdout",
          "text": [
            "Permutations of the list is [(1, 2, 3), (1, 3, 2), (2, 1, 3), (2, 3, 1), (3, 1, 2), (3, 2, 1)]\n"
          ]
        }
      ]
    },
    {
      "cell_type": "code",
      "source": [
        "##16\n",
        "str8 = ['T','u','t','o','r',' ','J','o','e','s']\n",
        "\n",
        "joined_string = ''.join(str8)\n",
        "print(joined_string)"
      ],
      "metadata": {
        "colab": {
          "base_uri": "https://localhost:8080/"
        },
        "id": "j4PYaAi74Nbo",
        "outputId": "fb88dd52-ee91-46e2-d6d3-ec7164516759"
      },
      "execution_count": 15,
      "outputs": [
        {
          "output_type": "stream",
          "name": "stdout",
          "text": [
            "Tutor Joes\n"
          ]
        }
      ]
    },
    {
      "cell_type": "code",
      "source": [
        "##17\n",
        "str9 = [20, 70, 30, 90, 10, 30, 90, 10, 80]\n",
        "\n",
        "to_find = 30\n",
        "index = str9.index(to_find)\n",
        "\n",
        "print(f\"Index number of an item = {index}\")"
      ],
      "metadata": {
        "colab": {
          "base_uri": "https://localhost:8080/"
        },
        "id": "73_4snDk4nIM",
        "outputId": "2012211f-da67-49bf-d2ce-9e2711f06c0f"
      },
      "execution_count": 16,
      "outputs": [
        {
          "output_type": "stream",
          "name": "stdout",
          "text": [
            "Index number of an item = 2\n"
          ]
        }
      ]
    },
    {
      "cell_type": "code",
      "source": [
        "##18\n",
        "lis1 = [[20,30,70],[30,90,10], [30,20], [70,90,10,80]]\n",
        "\n",
        "flattened_list = [item for sublist in lis1 for item in sublist]\n",
        "\n",
        "print(f\"the flattened list is {flattened_list}\")"
      ],
      "metadata": {
        "colab": {
          "base_uri": "https://localhost:8080/"
        },
        "id": "aAjQaOgg5USV",
        "outputId": "300e0822-e179-4bde-a0ad-f5a9d9e13bb7"
      },
      "execution_count": 1,
      "outputs": [
        {
          "output_type": "stream",
          "name": "stdout",
          "text": [
            "the flattened list is [20, 30, 70, 30, 90, 10, 30, 20, 70, 90, 10, 80]\n"
          ]
        }
      ]
    },
    {
      "cell_type": "code",
      "source": [
        "##19\n",
        "lis2 = [10, 20, 30, 40]\n",
        "lis3 = [\"Cat\", \"Dog\", \"Lion\", \"Ponda\"]\n",
        "\n",
        "lis2.extend(lis3)\n",
        "new_lis = lis2\n",
        "\n",
        "print(f\"The new list is {new_lis}\")"
      ],
      "metadata": {
        "colab": {
          "base_uri": "https://localhost:8080/"
        },
        "id": "pWveOVOROPuz",
        "outputId": "008dbdbb-2fbf-4930-f4ba-95f9828bb09f"
      },
      "execution_count": 6,
      "outputs": [
        {
          "output_type": "stream",
          "name": "stdout",
          "text": [
            "The new list is [10, 20, 30, 40, 'Cat', 'Dog', 'Lion', 'Ponda']\n"
          ]
        }
      ]
    },
    {
      "cell_type": "code",
      "source": [
        "##20\n",
        "import random\n",
        "lis4 = [\"Cat\", \"Dog\", \"Elephant\", \"Fox\", \"Tiger\", \"Lion\", \"Ponda\"]\n",
        "\n",
        "random_spawn = random.choice(lis4)\n",
        "\n",
        "print(f\"Randomly selected output is {random_spawn}\")"
      ],
      "metadata": {
        "colab": {
          "base_uri": "https://localhost:8080/"
        },
        "id": "BivDTOTsPOtT",
        "outputId": "4c7dbc04-73d0-4049-f070-1d488cdc70b2"
      },
      "execution_count": 7,
      "outputs": [
        {
          "output_type": "stream",
          "name": "stdout",
          "text": [
            "Randomly selected output is Tiger\n"
          ]
        }
      ]
    },
    {
      "cell_type": "code",
      "source": [
        "##21\n",
        "lis5 = [8, 8, 12, 12, 8]\n",
        "lis6 = [8, 8, 8, 12, 12]\n",
        "lis7 = [1, 8, 8, 12, 12]\n",
        "\n"
      ],
      "metadata": {
        "id": "HD2uR97-QMQ8"
      },
      "execution_count": null,
      "outputs": []
    }
  ]
}