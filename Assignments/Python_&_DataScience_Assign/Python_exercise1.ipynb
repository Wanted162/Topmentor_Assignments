{
  "nbformat": 4,
  "nbformat_minor": 0,
  "metadata": {
    "colab": {
      "provenance": []
    },
    "kernelspec": {
      "name": "python3",
      "display_name": "Python 3"
    },
    "language_info": {
      "name": "python"
    }
  },
  "cells": [
    {
      "cell_type": "code",
      "execution_count": null,
      "metadata": {
        "colab": {
          "base_uri": "https://localhost:8080/"
        },
        "id": "IxJsM4NT3Mpa",
        "outputId": "5993b58f-85ce-4eb8-f97e-160c9de4bb03"
      },
      "outputs": [
        {
          "output_type": "stream",
          "name": "stdout",
          "text": [
            "Enter an Integer: 2\n",
            "2 is Even number\n"
          ]
        }
      ],
      "source": [
        "##1 Write a program that reads an integer from the user. Then your program should display a message indicating whether the integer is even or odd.\n",
        "\n",
        "def check_even_odd():\n",
        "  try:\n",
        "    number = int(input(\"Enter an Integer: \"))\n",
        "\n",
        "    if number%2 == 0:\n",
        "      print(f\"{number} is Even number\")\n",
        "\n",
        "    else:\n",
        "      print(f\"{number} is Odd number\")\n",
        "\n",
        "  except ValueError:\n",
        "    print(\"Invalid input\")\n",
        "\n",
        "check_even_odd()"
      ]
    },
    {
      "cell_type": "code",
      "source": [
        "##2 Human years to dog years\n",
        "\n",
        "def human_to_dog_years(human_years):\n",
        "  if human_years < 0:\n",
        "    return \"Error: Human years cannot be negative\"\n",
        "\n",
        "  if human_years < 2:\n",
        "    dog_years = human_years*10.5\n",
        "  else:\n",
        "    dog_years = 2*10.5 + (human_years - 2)*4\n",
        "\n",
        "  return f\"{human_years} human years is equivalent to {dog_years} dog years.\"\n",
        "\n",
        "\n",
        "def main():\n",
        "  try:\n",
        "    human_years = int(input(\"Enter the number of human years: \"))\n",
        "\n",
        "    result = human_to_dog_years(human_years)\n",
        "\n",
        "    print(result)\n",
        "\n",
        "  except ValueError:\n",
        "    print(\"Invalid input\")\n",
        "\n",
        "main()"
      ],
      "metadata": {
        "colab": {
          "base_uri": "https://localhost:8080/"
        },
        "id": "CrB0lNKj4nda",
        "outputId": "52166070-8fb7-4fbe-ffe0-51b476a328b2"
      },
      "execution_count": null,
      "outputs": [
        {
          "output_type": "stream",
          "name": "stdout",
          "text": [
            "Enter the number of human years: 12\n",
            "12 human years is equivalent to 61.0 dog years.\n"
          ]
        }
      ]
    },
    {
      "cell_type": "code",
      "source": [
        "##3 enter vowels or y or constant\n",
        "\n",
        "def classify_letter(letters):\n",
        "  letters = letters.lower()\n",
        "\n",
        "  if letters in ['a','e','i','o','u']:\n",
        "    return f\"{letters} is a vowel\"\n",
        "\n",
        "  elif letters == 'y':\n",
        "    return \"Sometimes y can also be a vowel and it can be sometimes consonant\"\n",
        "\n",
        "  else:\n",
        "    return f\"{letters} is consonant\"\n",
        "\n",
        "def main():\n",
        "  letters = input(\"Enter the alphabet of your choice: \")\n",
        "\n",
        "  if len(letters) != 1 or not letters.isalpha():\n",
        "    print(\"Invalid input!, Please enter a valid alphabet\")\n",
        "\n",
        "  else:\n",
        "    result = classify_letter(letters)\n",
        "    print(result)\n",
        "\n",
        "main()"
      ],
      "metadata": {
        "colab": {
          "base_uri": "https://localhost:8080/"
        },
        "id": "wxDFG-h7FNxo",
        "outputId": "cb1759bc-6cc7-46ff-be4b-e48de07ab741"
      },
      "execution_count": null,
      "outputs": [
        {
          "output_type": "stream",
          "name": "stdout",
          "text": [
            "Enter the alphabet of your choice: a\n",
            "a is a vowel\n"
          ]
        }
      ]
    },
    {
      "cell_type": "code",
      "source": [
        "##4 identify shapes\n",
        "\n",
        "def get_shape_name(sides):\n",
        "\n",
        "  shape = {\n",
        "      3: \"Triangle\",\n",
        "      4: \"Rectangle\",\n",
        "      5: \"Pentagon\",\n",
        "      6: \"Hexagon\",\n",
        "      7: \"Heptagon\",\n",
        "      8: \"Octagon\",\n",
        "      9: \"Nonagon\",\n",
        "      10: \"Decagon\",\n",
        "  }\n",
        "\n",
        "  if sides in shape:\n",
        "    return f\"A shape with {sides} is called an {shape[sides]}\"\n",
        "  else:\n",
        "    return \"Error!, shape number must be between 3 to 10\"\n",
        "\n",
        "def main():\n",
        "  try:\n",
        "    sides = int(input(\"Enter the number of sides from 3 to 10: \"))\n",
        "    result = get_shape_name(sides)\n",
        "    print(result)\n",
        "  except ValueError:\n",
        "    print(\"Invalid Input\")\n",
        "\n",
        "\n",
        "main()"
      ],
      "metadata": {
        "colab": {
          "base_uri": "https://localhost:8080/"
        },
        "id": "7sPLtqWaJM2p",
        "outputId": "e193ecf2-2f66-4ee3-fa1d-f478aada3705"
      },
      "execution_count": null,
      "outputs": [
        {
          "output_type": "stream",
          "name": "stdout",
          "text": [
            "Enter the number of sides from 3 to 10: 5\n",
            "A shape with 5 is called an Pentagon\n"
          ]
        }
      ]
    },
    {
      "cell_type": "code",
      "source": [
        "##5 get days in months\n",
        "\n",
        "def get_days_in_month(month):\n",
        "\n",
        "  month_days = {\n",
        "        \"January\":31,\n",
        "        \"February\": \"28 or 29 days\",\n",
        "        \"March\": 31,\n",
        "        \"April\": 30,\n",
        "        \"May\": 31,\n",
        "        \"June\": 30,\n",
        "        \"July\": 31,\n",
        "        \"August\": 31,\n",
        "        \"September\": 30,\n",
        "        \"October\": 31,\n",
        "        \"November\": 30,\n",
        "        \"December\": 31\n",
        "  }\n",
        "\n",
        "  month = month.capitalize()\n",
        "\n",
        "  if month in month_days:\n",
        "    return f\"{month} consists of {month_days[month]} days\"\n",
        "  else:\n",
        "    return \"Error!, Please enter the valid month\"\n",
        "\n",
        "def main():\n",
        "  month = input(\"Enter the name of the month: \")\n",
        "  result = get_days_in_month(month)\n",
        "  print(result)\n",
        "\n",
        "main()"
      ],
      "metadata": {
        "colab": {
          "base_uri": "https://localhost:8080/"
        },
        "id": "FUb7x1FzL48A",
        "outputId": "3bb473b7-5aa7-4b0f-b1d4-2e73022490ed"
      },
      "execution_count": null,
      "outputs": [
        {
          "output_type": "stream",
          "name": "stdout",
          "text": [
            "Enter the name of the month: march\n",
            "March consists of 31 days\n"
          ]
        }
      ]
    },
    {
      "cell_type": "code",
      "source": [
        "##6 To create a Python program that reads a sound level in decibels from the user and displays the corresponding noise\n",
        "\n",
        "def find_noise_level(decibel):\n",
        "  noise_levels = {\n",
        "        \"Jackhammer\": 130,\n",
        "        \"Gas lawnmower\": 106,\n",
        "        \"Alarm clock\": 70,\n",
        "        \"Quiet room\": 40\n",
        "  }\n",
        "\n",
        "  sorted_noise = sorted(noise_levels.items(), key = lambda x: x[-1])\n",
        "\n",
        "  for noise, level in sorted_noise:\n",
        "    if decibel == level:\n",
        "      return f\"The noise level is {noise}\"\n",
        "\n",
        "  if decibel < sorted_noise[0][1]:\n",
        "    return \"The noise level is lower than the quiet room\"\n",
        "  elif decibel > sorted_noise[-1][1]:\n",
        "    return \"The noise level is louder than the jackhammer\"\n",
        "  else:\n",
        "    for i in range(len(sorted_noise) - 1):\n",
        "      if sorted_noise[i][1] < decibel < sorted_noise[i+1][1]:\n",
        "        return f\"The noise level is between {sorted_noise[i][0]} and {sorted_noise[i+1][0]}\"\n",
        "\n",
        "def main():\n",
        "  try:\n",
        "    decibel = int(input(\"Enter the sound level in decibels: \"))\n",
        "    result = find_noise_level(decibel)\n",
        "    print(result)\n",
        "  except ValueError:\n",
        "    print(\"Error!, Please enter a valid integer\")\n",
        "\n",
        "main()"
      ],
      "metadata": {
        "id": "SRS6cCUFOyUW",
        "colab": {
          "base_uri": "https://localhost:8080/"
        },
        "outputId": "beffe83c-6570-4d61-f212-a86ac5eda2bb"
      },
      "execution_count": 2,
      "outputs": [
        {
          "output_type": "stream",
          "name": "stdout",
          "text": [
            "Enter the sound level in decibels: 34\n",
            "The noise level is lower than the quiet room\n"
          ]
        }
      ]
    },
    {
      "cell_type": "code",
      "source": [
        "##7 Dictionary holding the frequencies of notes in the 4th octave\n",
        "note_frequencies = {\n",
        "    \"C\": 261.63,\n",
        "    \"D\": 293.66,\n",
        "    \"E\": 329.63,\n",
        "    \"F\": 349.23,\n",
        "    \"G\": 392.00,\n",
        "    \"A\": 440.00,\n",
        "    \"B\": 493.88\n",
        "}\n",
        "\n",
        "def get_frequency(note):\n",
        "    # Extract the note letter and the octave number from the input\n",
        "    base_note = note[:-1]\n",
        "    octave = note[-1]\n",
        "\n",
        "    # Validate the note and octave\n",
        "    if base_note not in note_frequencies or not octave.isdigit():\n",
        "        return None\n",
        "\n",
        "    # Convert the octave to an integer\n",
        "    octave = int(octave)\n",
        "\n",
        "    # Check if the octave is within the valid range (0 to 8)\n",
        "    if octave < 0 or octave > 8:\n",
        "        return None\n",
        "\n",
        "    # Base frequency in the 4th octave\n",
        "    base_frequency = note_frequencies[base_note]\n",
        "\n",
        "    # Calculate the frequency for the given octave\n",
        "    frequency = base_frequency / (2 ** (4 - octave))\n",
        "\n",
        "    return frequency\n",
        "\n",
        "def main():\n",
        "    # Read the note from the user\n",
        "    note = input(\"Enter the musical note (e.g., C4, D4, etc.): \").strip()\n",
        "    frequency = get_frequency(note)\n",
        "\n",
        "    # Check if the note is valid and display the result\n",
        "    if frequency is None:\n",
        "        print(\"Invalid note entered.\")\n",
        "    else:\n",
        "        print(f\"The frequency of {note} is {frequency:.2f} Hz.\")\n",
        "\n",
        "# Call the main function to execute the program\n",
        "main()\n"
      ],
      "metadata": {
        "colab": {
          "base_uri": "https://localhost:8080/"
        },
        "id": "dZRA1xuS7cvS",
        "outputId": "3231c650-4c2a-4404-d311-b4a92cead5ec"
      },
      "execution_count": 13,
      "outputs": [
        {
          "output_type": "stream",
          "name": "stdout",
          "text": [
            "Enter the musical note (e.g., C4, D4, etc.): A4\n",
            "The frequency of A4 is 440.00 Hz.\n"
          ]
        }
      ]
    },
    {
      "cell_type": "code",
      "source": [
        "##8 # Dictionary holding the frequencies of notes in the 4th octave\n",
        "note_frequencies = {\n",
        "    \"C4\": 261.63,\n",
        "    \"D4\": 293.66,\n",
        "    \"E4\": 329.63,\n",
        "    \"F4\": 349.23,\n",
        "    \"G4\": 392.00,\n",
        "    \"A4\": 440.00,\n",
        "    \"B4\": 493.88\n",
        "}\n",
        "\n",
        "def find_note_from_frequency(frequency):\n",
        "    # Iterate through the dictionary of note frequencies\n",
        "    for note, freq in note_frequencies.items():\n",
        "        # Check if the given frequency is within 1 Hz of any known frequency\n",
        "        if abs(frequency - freq) <= 1:\n",
        "            return note\n",
        "    # Return None if no match is found\n",
        "    return None\n",
        "\n",
        "def main():\n",
        "    # Read the frequency from the user\n",
        "    frequency = float(input(\"Enter the frequency in Hz: \").strip())\n",
        "\n",
        "    # Find the corresponding note\n",
        "    note = find_note_from_frequency(frequency)\n",
        "\n",
        "    # Output the result\n",
        "    if note is None:\n",
        "        print(\"The frequency does not correspond to a known note.\")\n",
        "    else:\n",
        "        print(f\"The frequency {frequency} Hz corresponds to the note {note}.\")\n",
        "\n",
        "# Call the main function to execute the program\n",
        "main()\n"
      ],
      "metadata": {
        "colab": {
          "base_uri": "https://localhost:8080/"
        },
        "id": "dOGSbw4FlUwn",
        "outputId": "6bbddac0-dc03-440d-a07a-2266316a0b48"
      },
      "execution_count": 14,
      "outputs": [
        {
          "output_type": "stream",
          "name": "stdout",
          "text": [
            "Enter the frequency in Hz: 89\n",
            "The frequency does not correspond to a known note.\n"
          ]
        }
      ]
    },
    {
      "cell_type": "code",
      "source": [
        "##9 Wavelength of light\n",
        "def get_color(wavelength):\n",
        "    if 380 <= wavelength < 450:\n",
        "        return \"Violet\"\n",
        "    elif 450 <= wavelength < 495:\n",
        "        return \"Blue\"\n",
        "    elif 495 <= wavelength < 570:\n",
        "        return \"Green\"\n",
        "    elif 570 <= wavelength < 590:\n",
        "        return \"Yellow\"\n",
        "    elif 590 <= wavelength < 620:\n",
        "        return \"Orange\"\n",
        "    elif 620 <= wavelength <= 750:\n",
        "        return \"Red\"\n",
        "    else:\n",
        "        return None\n",
        "\n",
        "def main():\n",
        "    try:\n",
        "        wavelength = float(input(\"Enter the wavelength in nanometers (nm): \"))\n",
        "        color = get_color(wavelength)\n",
        "        if color:\n",
        "            print(f\"The color corresponding to {wavelength} nm is {color}.\")\n",
        "        else:\n",
        "            print(\"The wavelength entered is outside of the visible spectrum.\")\n",
        "    except ValueError:\n",
        "        print(\"Invalid input. Please enter a numeric value.\")\n",
        "\n",
        "\n",
        "main()\n"
      ],
      "metadata": {
        "colab": {
          "base_uri": "https://localhost:8080/"
        },
        "id": "KQqkzoWfLlVA",
        "outputId": "0d360815-56da-491e-dc7a-eb641bfa4984"
      },
      "execution_count": 1,
      "outputs": [
        {
          "output_type": "stream",
          "name": "stdout",
          "text": [
            "Enter the wavelength in nanometers (nm): 500\n",
            "The color corresponding to 500.0 nm is Green.\n"
          ]
        }
      ]
    },
    {
      "cell_type": "code",
      "source": [],
      "metadata": {
        "id": "1qaukD-pZId1"
      },
      "execution_count": null,
      "outputs": []
    }
  ]
}