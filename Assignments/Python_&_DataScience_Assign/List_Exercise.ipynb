{
  "nbformat": 4,
  "nbformat_minor": 0,
  "metadata": {
    "colab": {
      "provenance": []
    },
    "kernelspec": {
      "name": "python3",
      "display_name": "Python 3"
    },
    "language_info": {
      "name": "python"
    }
  },
  "cells": [
    {
      "cell_type": "code",
      "execution_count": null,
      "metadata": {
        "id": "t5dfWL4vWc5J"
      },
      "outputs": [],
      "source": [
        "##List Exercise"
      ]
    },
    {
      "cell_type": "code",
      "source": [
        "## 1\n",
        "numbers = [1,7,-10,34,2,-8]\n",
        "total_sum = sum(numbers)\n",
        "print(f\"Sum all the items =  {total_sum}\")"
      ],
      "metadata": {
        "colab": {
          "base_uri": "https://localhost:8080/"
        },
        "id": "JZWnT6BKyx_S",
        "outputId": "f478da3f-ac9c-4ff6-9848-deeafb49cec0"
      },
      "execution_count": null,
      "outputs": [
        {
          "output_type": "stream",
          "name": "stdout",
          "text": [
            "Sum all the items =  26\n"
          ]
        }
      ]
    },
    {
      "cell_type": "code",
      "source": [
        "## 2\n",
        "numbers2 = [3,4,5,4,7]\n",
        "product = 1\n",
        "\n",
        "for num in numbers2:\n",
        "  product *= num\n",
        "\n",
        "print(f\"Multiplication all the items =  {product}\")"
      ],
      "metadata": {
        "colab": {
          "base_uri": "https://localhost:8080/"
        },
        "id": "743z4fXBzPSx",
        "outputId": "c3b2884a-2211-4ac5-e51c-a69146ee918d"
      },
      "execution_count": null,
      "outputs": [
        {
          "output_type": "stream",
          "name": "stdout",
          "text": [
            "Multiplication all the items =  1680\n"
          ]
        }
      ]
    },
    {
      "cell_type": "code",
      "source": [
        "## 3\n",
        "numbers3 = [1,7,10,34,2,8]\n",
        "max_num = max(numbers3)\n",
        "\n",
        "print(f\"Largest number = {max_num}\")"
      ],
      "metadata": {
        "colab": {
          "base_uri": "https://localhost:8080/"
        },
        "id": "6FOrM9YJzpoa",
        "outputId": "9f3a6e0d-cffa-4246-8e61-0c7b410d588e"
      },
      "execution_count": null,
      "outputs": [
        {
          "output_type": "stream",
          "name": "stdout",
          "text": [
            "Largest number = 34\n"
          ]
        }
      ]
    },
    {
      "cell_type": "code",
      "source": [
        "##4\n",
        "numbers4 = [51,7,10,34,2,8]\n",
        "min_num = min(numbers4)\n",
        "\n",
        "print(f\"Smallest number = {min_num}\")"
      ],
      "metadata": {
        "colab": {
          "base_uri": "https://localhost:8080/"
        },
        "id": "AyZyUWxr02VJ",
        "outputId": "d6c70d6f-e83e-4aeb-b14b-e79a24dbfd89"
      },
      "execution_count": null,
      "outputs": [
        {
          "output_type": "stream",
          "name": "stdout",
          "text": [
            "Smallest number = 2\n"
          ]
        }
      ]
    },
    {
      "cell_type": "code",
      "source": [
        "##5\n",
        "str1 = ['abc', 'xyz', 'aba', '1221']\n",
        "count = 0\n",
        "\n",
        "for string in str1:\n",
        "  if len(string) >= 2 and string[0] == string[-1]:\n",
        "    count += 1\n",
        "\n",
        "print(f\"First and Last character are same: {count}\")"
      ],
      "metadata": {
        "colab": {
          "base_uri": "https://localhost:8080/"
        },
        "id": "JkBSndtO1NpI",
        "outputId": "0947466a-5f00-4487-803f-282f09b57d1c"
      },
      "execution_count": null,
      "outputs": [
        {
          "output_type": "stream",
          "name": "stdout",
          "text": [
            "First and Last character are same: 2\n"
          ]
        }
      ]
    },
    {
      "cell_type": "code",
      "source": [
        "##6\n",
        "numbers5 = [1,2,3,7,2,1,5,6,4,8,5,4]\n",
        "unique_num = set(numbers5)\n",
        "\n",
        "print(f\"unique numbers = {unique_num}\")"
      ],
      "metadata": {
        "colab": {
          "base_uri": "https://localhost:8080/"
        },
        "id": "cKwAw7Jt2zuW",
        "outputId": "0638fc3d-0cd3-457c-c4bf-3468c6b4a9b1"
      },
      "execution_count": null,
      "outputs": [
        {
          "output_type": "stream",
          "name": "stdout",
          "text": [
            "unique numbers = {1, 2, 3, 4, 5, 6, 7, 8}\n"
          ]
        }
      ]
    },
    {
      "cell_type": "code",
      "source": [
        "##7\n",
        "list1 = [34,45,6,5,4,56,7]\n",
        "\n",
        "if not list1:\n",
        "  print(\"List is empty\")\n",
        "else:\n",
        "  print(\"list is not empty\")"
      ],
      "metadata": {
        "colab": {
          "base_uri": "https://localhost:8080/"
        },
        "id": "ejjKKf583h64",
        "outputId": "7b727076-fae1-4118-887e-02111062f8be"
      },
      "execution_count": null,
      "outputs": [
        {
          "output_type": "stream",
          "name": "stdout",
          "text": [
            "list is not empty\n"
          ]
        }
      ]
    },
    {
      "cell_type": "code",
      "source": [
        "##8\n",
        "list2 = [10, 22, 44, 23, 4]\n",
        "lists = list2.copy()\n",
        "print(\"Clone or copy a list\", lists)"
      ],
      "metadata": {
        "colab": {
          "base_uri": "https://localhost:8080/"
        },
        "id": "QS9kX_-74Kxg",
        "outputId": "409d67d6-3051-431b-ddc9-a7292c39e796"
      },
      "execution_count": null,
      "outputs": [
        {
          "output_type": "stream",
          "name": "stdout",
          "text": [
            "Clone or copy a list [10, 22, 44, 23, 4]\n"
          ]
        }
      ]
    },
    {
      "cell_type": "code",
      "source": [
        "##9\n",
        "str2 = ['Words', 'Longer', 'given', 'Words']\n",
        "count = 0\n",
        "n=4\n",
        "for string in str2:\n",
        "  if len(string) > n:\n",
        "    count += 1\n",
        "\n",
        "print(\"words longer than n are:\", count)"
      ],
      "metadata": {
        "colab": {
          "base_uri": "https://localhost:8080/"
        },
        "id": "ZDWlSf9V4j2D",
        "outputId": "2f973a6c-51a4-4fec-a665-9fa425ad5876"
      },
      "execution_count": null,
      "outputs": [
        {
          "output_type": "stream",
          "name": "stdout",
          "text": [
            "words longer than n are: 4\n"
          ]
        }
      ]
    },
    {
      "cell_type": "code",
      "source": [
        "##10\n",
        "str3 = [1,2,3,4,5]\n",
        "str4 = [5,6,7,8,9]\n",
        "\n",
        "common_member = False\n",
        "\n",
        "for item in str3:\n",
        "  if item in str4:\n",
        "    common_member = True\n",
        "    break\n",
        "\n",
        "if common_member:\n",
        "    print(\"List have atleast one common member\")\n",
        "else:\n",
        "    print(\"List do not have common member\")"
      ],
      "metadata": {
        "colab": {
          "base_uri": "https://localhost:8080/"
        },
        "id": "9wredps86lRh",
        "outputId": "ab28d2a2-0623-4ea0-f703-c56d23418cb8"
      },
      "execution_count": null,
      "outputs": [
        {
          "output_type": "stream",
          "name": "stdout",
          "text": [
            "List have atleast one common member\n"
          ]
        }
      ]
    },
    {
      "cell_type": "code",
      "source": [
        "##11\n",
        "str5 = [\"Cat\", \"Dog\", \"Elephant\", \"Fox\", \"Tiger\", \"Lion\", \"Ponda\"]\n",
        "\n",
        "indices_to_remove = {0,4,5}\n",
        "\n",
        "filtered_list = [animal for i, animal in enumerate(str5) if i not in indices_to_remove]\n",
        "print(f\"new animal list is {filtered_list}\")"
      ],
      "metadata": {
        "id": "wEwWq1_lCRrz",
        "colab": {
          "base_uri": "https://localhost:8080/"
        },
        "outputId": "72322551-571f-4780-8579-8a148ed1d455"
      },
      "execution_count": null,
      "outputs": [
        {
          "output_type": "stream",
          "name": "stdout",
          "text": [
            "new animal list is ['Dog', 'Elephant', 'Fox', 'Ponda']\n"
          ]
        }
      ]
    },
    {
      "cell_type": "code",
      "source": [
        "##12\n",
        "str6 = [7,32,81,20,25,14,23,27]\n",
        "\n",
        "odd_list = [num for num in str6 if num%2 != 0]\n",
        "\n",
        "print(f\"New list is {odd_list}\")"
      ],
      "metadata": {
        "colab": {
          "base_uri": "https://localhost:8080/"
        },
        "id": "-aJe0d5iz_zR",
        "outputId": "da0194d7-bd7b-4b6b-83c3-ebc8e3d698ba"
      },
      "execution_count": null,
      "outputs": [
        {
          "output_type": "stream",
          "name": "stdout",
          "text": [
            "New list is [7, 81, 25, 23, 27]\n"
          ]
        }
      ]
    },
    {
      "cell_type": "code",
      "source": [
        "##13\n",
        "import random\n",
        "\n",
        "str7 = [\"Cat\", \"Dog\", \"Elephant\", \"Fox\", \"Tiger\", \"Lion\", \"Ponda\"]\n",
        "\n",
        "random.shuffle(str7)\n",
        "\n",
        "print(f\"shuffles list is {str7}\")"
      ],
      "metadata": {
        "colab": {
          "base_uri": "https://localhost:8080/"
        },
        "id": "sY-83mam1WPq",
        "outputId": "59f673aa-dbd6-4ee2-8b4f-af1036895283"
      },
      "execution_count": null,
      "outputs": [
        {
          "output_type": "stream",
          "name": "stdout",
          "text": [
            "shuffles list is ['Cat', 'Dog', 'Ponda', 'Lion', 'Elephant', 'Fox', 'Tiger']\n"
          ]
        }
      ]
    },
    {
      "cell_type": "code",
      "source": [
        "##14\n",
        "squares = [i**2 for i in range(1,30)]\n",
        "\n",
        "first_five = squares[:5]\n",
        "\n",
        "last_five = squares[-5:]\n",
        "\n",
        "print(f\"first five elements are {first_five}\")\n",
        "print(f\"last five elements are {last_five}\")"
      ],
      "metadata": {
        "colab": {
          "base_uri": "https://localhost:8080/"
        },
        "id": "uAIez2IG2PFU",
        "outputId": "fa1d94fc-f998-403b-ed72-74598829a8b0"
      },
      "execution_count": null,
      "outputs": [
        {
          "output_type": "stream",
          "name": "stdout",
          "text": [
            "first five elements are [1, 4, 9, 16, 25]\n",
            "last five elements are [625, 676, 729, 784, 841]\n"
          ]
        }
      ]
    },
    {
      "cell_type": "code",
      "source": [
        "##15\n",
        "import itertools\n",
        "\n",
        "numbers = [1,2,3]\n",
        "\n",
        "permutations = list(itertools.permutations(numbers))\n",
        "print(f\"Permutations of the list is {permutations}\")"
      ],
      "metadata": {
        "colab": {
          "base_uri": "https://localhost:8080/"
        },
        "id": "i00baKJO3Ra4",
        "outputId": "9d0c991e-0181-4526-8c6d-ce7e7b6aa1b3"
      },
      "execution_count": null,
      "outputs": [
        {
          "output_type": "stream",
          "name": "stdout",
          "text": [
            "Permutations of the list is [(1, 2, 3), (1, 3, 2), (2, 1, 3), (2, 3, 1), (3, 1, 2), (3, 2, 1)]\n"
          ]
        }
      ]
    },
    {
      "cell_type": "code",
      "source": [
        "##16\n",
        "str8 = ['T','u','t','o','r',' ','J','o','e','s']\n",
        "\n",
        "joined_string = ''.join(str8)\n",
        "print(joined_string)"
      ],
      "metadata": {
        "colab": {
          "base_uri": "https://localhost:8080/"
        },
        "id": "j4PYaAi74Nbo",
        "outputId": "fb88dd52-ee91-46e2-d6d3-ec7164516759"
      },
      "execution_count": null,
      "outputs": [
        {
          "output_type": "stream",
          "name": "stdout",
          "text": [
            "Tutor Joes\n"
          ]
        }
      ]
    },
    {
      "cell_type": "code",
      "source": [
        "##17\n",
        "str9 = [20, 70, 30, 90, 10, 30, 90, 10, 80]\n",
        "\n",
        "to_find = 30\n",
        "index = str9.index(to_find)\n",
        "\n",
        "print(f\"Index number of an item = {index}\")"
      ],
      "metadata": {
        "colab": {
          "base_uri": "https://localhost:8080/"
        },
        "id": "73_4snDk4nIM",
        "outputId": "2012211f-da67-49bf-d2ce-9e2711f06c0f"
      },
      "execution_count": null,
      "outputs": [
        {
          "output_type": "stream",
          "name": "stdout",
          "text": [
            "Index number of an item = 2\n"
          ]
        }
      ]
    },
    {
      "cell_type": "code",
      "source": [
        "##18\n",
        "lis1 = [[20,30,70],[30,90,10], [30,20], [70,90,10,80]]\n",
        "\n",
        "flattened_list = [item for sublist in lis1 for item in sublist]\n",
        "\n",
        "print(f\"the flattened list is {flattened_list}\")"
      ],
      "metadata": {
        "colab": {
          "base_uri": "https://localhost:8080/"
        },
        "id": "aAjQaOgg5USV",
        "outputId": "300e0822-e179-4bde-a0ad-f5a9d9e13bb7"
      },
      "execution_count": null,
      "outputs": [
        {
          "output_type": "stream",
          "name": "stdout",
          "text": [
            "the flattened list is [20, 30, 70, 30, 90, 10, 30, 20, 70, 90, 10, 80]\n"
          ]
        }
      ]
    },
    {
      "cell_type": "code",
      "source": [
        "##19\n",
        "lis2 = [10, 20, 30, 40]\n",
        "lis3 = [\"Cat\", \"Dog\", \"Lion\", \"Ponda\"]\n",
        "\n",
        "lis2.extend(lis3)\n",
        "new_lis = lis2\n",
        "\n",
        "print(f\"The new list is {new_lis}\")"
      ],
      "metadata": {
        "colab": {
          "base_uri": "https://localhost:8080/"
        },
        "id": "pWveOVOROPuz",
        "outputId": "008dbdbb-2fbf-4930-f4ba-95f9828bb09f"
      },
      "execution_count": null,
      "outputs": [
        {
          "output_type": "stream",
          "name": "stdout",
          "text": [
            "The new list is [10, 20, 30, 40, 'Cat', 'Dog', 'Lion', 'Ponda']\n"
          ]
        }
      ]
    },
    {
      "cell_type": "code",
      "source": [
        "##20\n",
        "import random\n",
        "lis4 = [\"Cat\", \"Dog\", \"Elephant\", \"Fox\", \"Tiger\", \"Lion\", \"Ponda\"]\n",
        "\n",
        "random_spawn = random.choice(lis4)\n",
        "\n",
        "print(f\"Randomly selected output is {random_spawn}\")"
      ],
      "metadata": {
        "colab": {
          "base_uri": "https://localhost:8080/"
        },
        "id": "BivDTOTsPOtT",
        "outputId": "4c7dbc04-73d0-4049-f070-1d488cdc70b2"
      },
      "execution_count": null,
      "outputs": [
        {
          "output_type": "stream",
          "name": "stdout",
          "text": [
            "Randomly selected output is Tiger\n"
          ]
        }
      ]
    },
    {
      "cell_type": "code",
      "source": [
        "##21\n",
        "lis5 = [8, 8, 12, 12, 8]\n",
        "lis6 = [8, 8, 8, 12, 12]\n",
        "lis7 = [1, 8, 8, 12, 12]\n",
        "\n",
        "def if_list_identical(lis5, lis6):\n",
        "  if len(lis5) != len(lis6):\n",
        "    return False\n",
        "\n",
        "  for i in range(len(lis5)):\n",
        "    rotated_list = lis5[-i:] + lis5[:-1]\n",
        "\n",
        "    if rotated_list == lis6:\n",
        "          return True\n",
        "\n",
        "  return False\n",
        "\n",
        "print(\"compare list1 and list2\", if_list_identical(lis5, lis6))\n",
        "print(\"compare list1 and list3\", if_list_identical(lis5, lis7))"
      ],
      "metadata": {
        "id": "HD2uR97-QMQ8",
        "colab": {
          "base_uri": "https://localhost:8080/"
        },
        "outputId": "a29310e1-8e5c-4476-d222-38b2ea8f869a"
      },
      "execution_count": null,
      "outputs": [
        {
          "output_type": "stream",
          "name": "stdout",
          "text": [
            "compare list1 and list2 True\n",
            "compare list1 and list3 False\n"
          ]
        }
      ]
    },
    {
      "cell_type": "code",
      "source": [
        "##22\n",
        "lis8 = [2,4,56,78,4,34,5,8,9]\n",
        "\n",
        "def second_smallest_no(lis8):\n",
        "  unique_numbers = list(set(lis8))\n",
        "\n",
        "  if len(unique_numbers) < 2:\n",
        "    return None\n",
        "\n",
        "  unique_numbers.sort()\n",
        "  return unique_numbers[1]\n",
        "\n",
        "second_smallest_number = second_smallest_no(lis8)\n",
        "print(\"second smallest number from the list is:\", second_smallest_number)"
      ],
      "metadata": {
        "colab": {
          "base_uri": "https://localhost:8080/"
        },
        "id": "DKP99RtrlZ7Q",
        "outputId": "e40ba162-9e22-4218-c099-d2ace6aff725"
      },
      "execution_count": null,
      "outputs": [
        {
          "output_type": "stream",
          "name": "stdout",
          "text": [
            "second smallest number from the list is: 4\n"
          ]
        }
      ]
    },
    {
      "cell_type": "code",
      "source": [
        "##23\n",
        "lis9 = [82,4,56,78,4,34,5,100,9]\n",
        "\n",
        "def second_largest(lis9):\n",
        "  unq_num = list(set(lis9))\n",
        "\n",
        "  if len(lis9) < 2:\n",
        "    return None\n",
        "\n",
        "  unq_num.sort()\n",
        "  return unq_num[-2]\n",
        "\n",
        "second_largest_num = second_largest(lis9)\n",
        "print(\"second largest number from the list is: \",second_largest_num)"
      ],
      "metadata": {
        "colab": {
          "base_uri": "https://localhost:8080/"
        },
        "id": "irN9c9YS8Urk",
        "outputId": "981d4fdb-5aa6-4f4f-f423-b3b6d95c21f2"
      },
      "execution_count": null,
      "outputs": [
        {
          "output_type": "stream",
          "name": "stdout",
          "text": [
            "second largest number from the list is:  82\n"
          ]
        }
      ]
    },
    {
      "cell_type": "code",
      "source": [
        "##24\n",
        "li1 = [82, 4, 10, 56, 78, 4, 34, 5, 10, 9]\n",
        "uniq_values = list(set(li1))\n",
        "uniq_values.sort()\n",
        "print(\"Original set \",li1)\n",
        "print(\"Unique value set \",uniq_values)"
      ],
      "metadata": {
        "colab": {
          "base_uri": "https://localhost:8080/"
        },
        "id": "zcnJVTjl9poO",
        "outputId": "1148a492-0ff5-4c6b-ccdf-f77aeb37f064"
      },
      "execution_count": null,
      "outputs": [
        {
          "output_type": "stream",
          "name": "stdout",
          "text": [
            "Original set  [82, 4, 10, 56, 78, 4, 34, 5, 10, 9]\n",
            "Unique value set  [4, 5, 9, 10, 34, 56, 78, 82]\n"
          ]
        }
      ]
    },
    {
      "cell_type": "code",
      "source": [
        "##25\n",
        "from collections import Counter\n",
        "\n",
        "li2 = [10, 30, 50, 10, 20, 60, 20, 60, 40, 40, 50, 50, 30]\n",
        "frequency = Counter(li2)\n",
        "\n",
        "print(\"The frequency of the list is: \", frequency)"
      ],
      "metadata": {
        "colab": {
          "base_uri": "https://localhost:8080/"
        },
        "id": "zICqSIVB-jQ-",
        "outputId": "b7c87621-c256-46e5-b49f-6f95423edfbf"
      },
      "execution_count": null,
      "outputs": [
        {
          "output_type": "stream",
          "name": "stdout",
          "text": [
            "The frequency of the list is:  Counter({50: 3, 10: 2, 30: 2, 20: 2, 60: 2, 40: 2})\n"
          ]
        }
      ]
    },
    {
      "cell_type": "code",
      "source": [
        "##26\n",
        "li3 = ['T', 'J']\n",
        "N = 10\n",
        "\n",
        "concatenated_list = [item + str(i) for i in range(1, N+1) for item in li3]\n",
        "print(concatenated_list)"
      ],
      "metadata": {
        "colab": {
          "base_uri": "https://localhost:8080/"
        },
        "id": "89bgfCda_RZd",
        "outputId": "93be12bf-d325-43f5-df04-a07398d514f0"
      },
      "execution_count": null,
      "outputs": [
        {
          "output_type": "stream",
          "name": "stdout",
          "text": [
            "['T1', 'J1', 'T2', 'J2', 'T3', 'J3', 'T4', 'J4', 'T5', 'J5', 'T6', 'J6', 'T7', 'J7', 'T8', 'J8', 'T9', 'J9', 'T10', 'J10']\n"
          ]
        }
      ]
    },
    {
      "cell_type": "code",
      "source": [
        "##27\n",
        "s = 'Tutor Joes'\n",
        "x = 30\n",
        "\n",
        "x_id = id(x)\n",
        "s_id = id(s)\n",
        "\n",
        "x_hex = hex(x_id)\n",
        "s_hex = hex(s_id)\n",
        "\n",
        "print(\"x = \",x_id)\n",
        "print(\"s = \",s_id)\n",
        "print(\"Unique Identification Number :\",x_hex)\n",
        "print(\"Unique Identification String :\",s_hex)"
      ],
      "metadata": {
        "colab": {
          "base_uri": "https://localhost:8080/"
        },
        "id": "atrqfiIcBSou",
        "outputId": "796f0541-c408-4a51-a263-410379df2241"
      },
      "execution_count": null,
      "outputs": [
        {
          "output_type": "stream",
          "name": "stdout",
          "text": [
            "x =  139447979558032\n",
            "s =  139446698391984\n",
            "Unique Identification Number : 0x7ed3c3494490\n",
            "Unique Identification String : 0x7ed376ec39b0\n"
          ]
        }
      ]
    },
    {
      "cell_type": "code",
      "source": [
        "#28\n",
        "li4 = [23,45,67,78,89,34]\n",
        "li5 = [34,89,55,56,39,67]\n",
        "\n",
        "common_list = set(li4).intersection(set(li5))\n",
        "print(\"The common list is: \",common_list)"
      ],
      "metadata": {
        "colab": {
          "base_uri": "https://localhost:8080/"
        },
        "id": "lW9ToXIQDN71",
        "outputId": "fd46bb8e-9abd-4c6f-e42e-1d791889e7f7"
      },
      "execution_count": null,
      "outputs": [
        {
          "output_type": "stream",
          "name": "stdout",
          "text": [
            "The common list is:  {89, 34, 67}\n"
          ]
        }
      ]
    },
    {
      "cell_type": "code",
      "source": [
        "#29\n",
        "from collections import defaultdict\n",
        "\n",
        "li6 = [\"cat\", \"dog\", \"cow\", \"tiger\", \"lion\", \"Fox\", \"Shark\", \"Snake\", \"turtle\", \"mouse\", \"monkey\",\"bear\"]\n",
        "grouped_words = defaultdict(list)\n",
        "\n",
        "for word in li6:\n",
        "  first_char = word[0].lower()\n",
        "  grouped_words[first_char].append(word)\n",
        "\n",
        "for key in sorted(grouped_words):\n",
        "  print(key.upper())\n",
        "  for word in grouped_words[key]:\n",
        "    print(word)"
      ],
      "metadata": {
        "colab": {
          "base_uri": "https://localhost:8080/"
        },
        "id": "IexuuXrtD6Mu",
        "outputId": "1b875bf2-ccb4-4d2b-ab76-c10428211b8e"
      },
      "execution_count": null,
      "outputs": [
        {
          "output_type": "stream",
          "name": "stdout",
          "text": [
            "B\n",
            "bear\n",
            "C\n",
            "cat\n",
            "cow\n",
            "D\n",
            "dog\n",
            "F\n",
            "Fox\n",
            "L\n",
            "lion\n",
            "M\n",
            "mouse\n",
            "monkey\n",
            "S\n",
            "Shark\n",
            "Snake\n",
            "T\n",
            "tiger\n",
            "turtle\n"
          ]
        }
      ]
    },
    {
      "cell_type": "code",
      "source": [
        "##30\n",
        "li7 = [1,2,4,3,6,7,5,8,9,7,8,9,10]\n",
        "\n",
        "odd_numbers = [num for num in li7 if num%2 != 0]\n",
        "print(\"The set of odd numbers are: \",odd_numbers)\n",
        "\n",
        "\n"
      ],
      "metadata": {
        "colab": {
          "base_uri": "https://localhost:8080/"
        },
        "id": "fiMSKpQ5HOXc",
        "outputId": "e2817cbb-c7d6-4416-8ed4-1c441ff0333f"
      },
      "execution_count": null,
      "outputs": [
        {
          "output_type": "stream",
          "name": "stdout",
          "text": [
            "The set of odd numbers are:  [1, 3, 7, 5, 9, 7, 9]\n"
          ]
        }
      ]
    },
    {
      "cell_type": "code",
      "source": [
        "##31\n",
        "li8 = [10, 20, 30, 50, 80, 70, 70, 80, 10]\n",
        "\n",
        "no_of_uniq_values = len(list(set(li8)))\n",
        "print(\"Number of uniques values in the list are \",no_of_uniq_values)"
      ],
      "metadata": {
        "colab": {
          "base_uri": "https://localhost:8080/"
        },
        "id": "Hh_NGezLMVlE",
        "outputId": "6c759962-7d19-4f4e-a06f-53d35b3846a2"
      },
      "execution_count": null,
      "outputs": [
        {
          "output_type": "stream",
          "name": "stdout",
          "text": [
            "Number of uniques values in the list are  6\n"
          ]
        }
      ]
    },
    {
      "cell_type": "code",
      "source": [
        "##32\n",
        "import math\n",
        "\n",
        "li9 = [2, 1, 2, 4, 6, 4, 3, 2, 1]\n",
        "\n",
        "unq_val = list(set(li9))\n",
        "prod = math.prod(unq_val)\n",
        "print(\"Duplication removal list product :\",prod)"
      ],
      "metadata": {
        "id": "T-uTHIhlO_jp",
        "colab": {
          "base_uri": "https://localhost:8080/"
        },
        "outputId": "b5c056d8-6971-4ef7-ffdc-678d1adbe184"
      },
      "execution_count": null,
      "outputs": [
        {
          "output_type": "stream",
          "name": "stdout",
          "text": [
            "Duplication removal list product : 144\n"
          ]
        }
      ]
    },
    {
      "cell_type": "code",
      "source": [
        "##33\n",
        "from collections import Counter\n",
        "li0 = [4, 6, 4, 3, 3, 4, 3, 7, 8, 8]\n",
        "k = 2\n",
        "frequency = Counter(li0)\n",
        "\n",
        "result = [item for item, count in frequency.items() if count > 2]\n",
        "print(f\"Elements with frequency greater than {k}: \",result)"
      ],
      "metadata": {
        "colab": {
          "base_uri": "https://localhost:8080/"
        },
        "id": "SAmDWOaPd10r",
        "outputId": "11b092ff-202e-4779-a737-1c5caec718e8"
      },
      "execution_count": null,
      "outputs": [
        {
          "output_type": "stream",
          "name": "stdout",
          "text": [
            "Elements with frequency greater than 2:  [4, 3]\n"
          ]
        }
      ]
    },
    {
      "cell_type": "code",
      "source": [
        "##34\n",
        "df1 = [4, 5, 6, 7, 3, 9]\n",
        "\n",
        "start = 3\n",
        "end = 4\n",
        "\n",
        "range_set = set(range(start, end+1))\n",
        "\n",
        "contains_all_in_range = range_set.issubset(set(df1))\n",
        "\n",
        "print(\"Does set contains all the values in range? \",contains_all_in_range)"
      ],
      "metadata": {
        "colab": {
          "base_uri": "https://localhost:8080/"
        },
        "id": "9W4ej64Ftp27",
        "outputId": "8c222fcc-34df-4ab8-ccce-685482dc7ceb"
      },
      "execution_count": null,
      "outputs": [
        {
          "output_type": "stream",
          "name": "stdout",
          "text": [
            "Does set contains all the values in range?  True\n"
          ]
        }
      ]
    },
    {
      "cell_type": "code",
      "source": [
        "##35\n",
        "df2 = [18, 18, 18, 6, 3, 4, 9, 9, 9]\n",
        "\n",
        "unq_vals = list(set(df2))"
      ],
      "metadata": {
        "id": "j5zCiL1Svbqx"
      },
      "execution_count": null,
      "outputs": []
    },
    {
      "cell_type": "code",
      "source": [
        "##36\n",
        "df3 = [10,20,30,20,30,400]\n",
        "\n",
        "def find_the_strongest_neighbour(df3):\n",
        "\n",
        "  strongest_neighbour = []\n",
        "\n",
        "  for i in range(len(df3) - 1):\n",
        "    strongest_neighbour.append(max(df3[i], df3[i+1]))\n",
        "  return strongest_neighbour\n",
        "\n",
        "result = find_the_strongest_neighbour(df3)\n",
        "\n",
        "print(\"the strongest neighbours are: \",result)"
      ],
      "metadata": {
        "colab": {
          "base_uri": "https://localhost:8080/"
        },
        "id": "AqFzbRHK2CGa",
        "outputId": "40ded30b-e88b-4cd9-ef2c-d7df676d162c"
      },
      "execution_count": null,
      "outputs": [
        {
          "output_type": "stream",
          "name": "stdout",
          "text": [
            "the strongest neighbours are:  [20, 30, 30, 30, 400]\n"
          ]
        }
      ]
    },
    {
      "cell_type": "code",
      "source": [
        "##37\n",
        "import itertools\n",
        "df4 = [1,2,3]\n",
        "permutations = list(itertools.permutations(df4))\n",
        "\n",
        "print(\"The permutations of the followinf set is: \",permutations)"
      ],
      "metadata": {
        "colab": {
          "base_uri": "https://localhost:8080/"
        },
        "id": "A_9-6hAkDqMZ",
        "outputId": "bb9adbbe-d385-4dfd-b392-2aa3aea161b6"
      },
      "execution_count": null,
      "outputs": [
        {
          "output_type": "stream",
          "name": "stdout",
          "text": [
            "The permutations of the followinf set is:  [(1, 2, 3), (1, 3, 2), (2, 1, 3), (2, 3, 1), (3, 1, 2), (3, 2, 1)]\n"
          ]
        }
      ]
    },
    {
      "cell_type": "code",
      "source": [
        "##38\n",
        "from itertools import product\n",
        "df5 = ['Tutor Joes', ['Software', 'Computer'], ['Solution', 'Education']]\n",
        "\n",
        "first_element = df5[0]\n",
        "sublists = df5[1:]\n",
        "\n",
        "combinations = product(*sublists)\n",
        "\n",
        "result1 = [[first_element] + list(combination) for combination in combinations]\n",
        "\n",
        "print(\"Combinations are: \")\n",
        "\n",
        "for comb in result1:\n",
        "  print(comb)"
      ],
      "metadata": {
        "colab": {
          "base_uri": "https://localhost:8080/"
        },
        "id": "1f0chEDYEcej",
        "outputId": "6152a194-f88b-4a59-90ba-f0be29c76fd3"
      },
      "execution_count": null,
      "outputs": [
        {
          "output_type": "stream",
          "name": "stdout",
          "text": [
            "Combinations are: \n",
            "['Tutor Joes', 'Software', 'Solution']\n",
            "['Tutor Joes', 'Software', 'Education']\n",
            "['Tutor Joes', 'Computer', 'Solution']\n",
            "['Tutor Joes', 'Computer', 'Education']\n"
          ]
        }
      ]
    },
    {
      "cell_type": "code",
      "source": [
        "##39\n",
        "from itertools import permutations\n",
        "df6 = ['A','B','C']\n",
        "df7 = [1,2,3]\n",
        "\n",
        "permutation_list = permutations(df7)\n",
        "\n",
        "unique_combinations = [[(df6[i], p[i]) for i in range(len(df6))] for p in permutation_list]\n",
        "\n",
        "print(\"Unique combinations are:\")\n",
        "\n",
        "for combi in unique_combinations:\n",
        "  print(combi)"
      ],
      "metadata": {
        "colab": {
          "base_uri": "https://localhost:8080/"
        },
        "id": "M4myE8pIGDJp",
        "outputId": "b51c2056-238f-414a-9c0d-94ce6720ef8b"
      },
      "execution_count": null,
      "outputs": [
        {
          "output_type": "stream",
          "name": "stdout",
          "text": [
            "Unique combinations are:\n",
            "[('A', 1), ('B', 2), ('C', 3)]\n",
            "[('A', 1), ('B', 3), ('C', 2)]\n",
            "[('A', 2), ('B', 1), ('C', 3)]\n",
            "[('A', 2), ('B', 3), ('C', 1)]\n",
            "[('A', 3), ('B', 1), ('C', 2)]\n",
            "[('A', 3), ('B', 2), ('C', 1)]\n"
          ]
        }
      ]
    },
    {
      "cell_type": "code",
      "source": [
        "##40\n",
        "df8 = [1, 3, 4, 6, 5, 1]\n",
        "\n",
        "def remove_duplicates(df8):\n",
        "  counts = {}\n",
        "\n",
        "  for item in df8:\n",
        "    counts[item] = counts.get(item, 0) + 1\n",
        "\n",
        "  result3 = [item for item in df8 if counts[item] == 1]\n",
        "\n",
        "  return result3\n",
        "\n",
        "result3 = remove_duplicates(df8)\n",
        "\n",
        "print(\"List after removing duplicates are: \",result3)"
      ],
      "metadata": {
        "id": "G3_1w9ZUIkNQ",
        "colab": {
          "base_uri": "https://localhost:8080/"
        },
        "outputId": "abafbbc8-35f0-4322-8117-5a363ff0967c"
      },
      "execution_count": null,
      "outputs": [
        {
          "output_type": "stream",
          "name": "stdout",
          "text": [
            "List after removing duplicates are:  [3, 4, 6, 5]\n"
          ]
        }
      ]
    },
    {
      "cell_type": "code",
      "source": [
        "##41\n",
        "df9 = [\n",
        "    ('A', 'B', 'C', 'D'),\n",
        "    ('B', 'C', 'C', 'I'),\n",
        "    ('H', 'D', 'B', 'C'),\n",
        "    ('C', 'C', 'G', 'F')\n",
        "]\n",
        "\n",
        "k = 2\n",
        "\n",
        "def remove_consecutive_k_elements(df9, k):\n",
        "  def has_consecutive_k_elements(tup, k):\n",
        "    for i in range (len(tup) - k + 1 ):\n",
        "      if all(tup[j] == tup[i] for j in range(i, i + k)):\n",
        "        return True\n",
        "\n",
        "  return[tup for tup in df9 if not has_consecutive_k_elements(tup, k)]\n",
        "\n",
        "result5 = remove_consecutive_k_elements(df9, k)\n",
        "\n",
        "print(\"List aftre removing consecutive k elements are: \",result5)"
      ],
      "metadata": {
        "colab": {
          "base_uri": "https://localhost:8080/"
        },
        "id": "wqm07kJsAdZu",
        "outputId": "f5ba3f88-442b-4318-87ef-b4959bf9e334"
      },
      "execution_count": null,
      "outputs": [
        {
          "output_type": "stream",
          "name": "stdout",
          "text": [
            "List aftre removing consecutive k elements are:  [('A', 'B', 'C', 'D'), ('H', 'D', 'B', 'C')]\n"
          ]
        }
      ]
    },
    {
      "cell_type": "code",
      "source": [
        "##42\n",
        "lst1 = ['Tutor Joes', 'Computer', 'Education']\n",
        "lst2 = [2, 1, 0, 1, 0, 2, 2, 0, 1, 0, 1, 2]\n",
        "\n",
        "def replace_index_elements(lst1, lst2):\n",
        "  result6 = [lst1[i] for i in lst2]\n",
        "  return result6\n",
        "\n",
        "result6 = replace_index_elements(lst1, lst2)\n",
        "\n",
        "print(\"Original list: \",lst1)\n",
        "print(\"Original list: \",lst2)\n",
        "print(\"List of replaced index elements are: \",result6)"
      ],
      "metadata": {
        "colab": {
          "base_uri": "https://localhost:8080/"
        },
        "id": "J_OETlzDGH2E",
        "outputId": "32ea4bb5-f231-49cd-8942-78f6caeb49f8"
      },
      "execution_count": null,
      "outputs": [
        {
          "output_type": "stream",
          "name": "stdout",
          "text": [
            "Original list:  ['Tutor Joes', 'Computer', 'Education']\n",
            "Original list:  [2, 1, 0, 1, 0, 2, 2, 0, 1, 0, 1, 2]\n",
            "List of replaced index elements are:  ['Education', 'Computer', 'Tutor Joes', 'Computer', 'Tutor Joes', 'Education', 'Education', 'Tutor Joes', 'Computer', 'Tutor Joes', 'Computer', 'Education']\n"
          ]
        }
      ]
    },
    {
      "cell_type": "code",
      "source": [
        "##43\n",
        "lst3= [ (4, 5, 6, 5, 4), (4, 5, 3), (5, 5, 2), (3, 4, 9) ]\n",
        "K = 5\n",
        "N = 2\n",
        "\n",
        "\n",
        "def retain_records_with_n_occurences(lst3, K, N):\n",
        "  def count_occurences(tup, K):\n",
        "    return sum(1 for x in tup if x==K)\n",
        "\n",
        "  result7 = [tup for tup in lst3 if count_occurences(tup, K) == N]\n",
        "  return result7\n",
        "\n",
        "result7 = retain_records_with_n_occurences(lst3, K, N)\n",
        "\n",
        "print(\"List after retaining records with N occurences of K is: \",result7)"
      ],
      "metadata": {
        "id": "xPeZ6tYsHuJr",
        "colab": {
          "base_uri": "https://localhost:8080/"
        },
        "outputId": "a2c58eb4-5d2a-4313-81d6-b6cc914433ab"
      },
      "execution_count": null,
      "outputs": [
        {
          "output_type": "stream",
          "name": "stdout",
          "text": [
            "List after retaining records with N occurences of K is:  [(4, 5, 6, 5, 4), (5, 5, 2)]\n"
          ]
        }
      ]
    },
    {
      "cell_type": "code",
      "source": [
        "##44\n",
        "lt1 = ['Tutor', 'joes', 'Computer', 'Education']\n",
        "lt2 = ['Tutor', \"Joe's\", 'Software', 'Solutions']\n",
        "\n",
        "def swapping_elements(string_list, index1, index2):\n",
        "  if index1 < 0 or index1 >= len(string_list) or index2 < 0 or index2 >= len(string_list):\n",
        "    raise IndexError(\"Index out of Range\")\n",
        "\n",
        "  string_list[index1], string_list[index2] = string_list[index2], string_list[index1]\n",
        "\n",
        "  return string_list\n",
        "\n",
        "index1 = 1\n",
        "index2 = 3\n",
        "\n",
        "result_list1 = swapping_elements(lt1, index1, index2)\n",
        "result_list2 = swapping_elements(lt2, index1, index2)\n",
        "\n",
        "\n",
        "print(\"Original list 1: \", lt1)\n",
        "print(\"Swapped list: \", result_list1)\n",
        "\n",
        "print(\"Original list 2: \", lt2)\n",
        "print(\"Swapped list: \", result_list2)"
      ],
      "metadata": {
        "colab": {
          "base_uri": "https://localhost:8080/"
        },
        "id": "XuJ50QidxRrV",
        "outputId": "ef423396-26d4-4c12-fbd0-342215116d51"
      },
      "execution_count": null,
      "outputs": [
        {
          "output_type": "stream",
          "name": "stdout",
          "text": [
            "Original list 1:  ['Tutor', 'Education', 'Computer', 'joes']\n",
            "Swapped list:  ['Tutor', 'Education', 'Computer', 'joes']\n",
            "Original list 2:  ['Tutor', 'Solutions', 'Software', \"Joe's\"]\n",
            "Swapped list:  ['Tutor', 'Solutions', 'Software', \"Joe's\"]\n"
          ]
        }
      ]
    },
    {
      "cell_type": "code",
      "source": [
        "##45\n",
        "lt3 = ['Tutor', 'joes', 'Computer', 'Education']\n",
        "\n",
        "def reverse_string_in_list(string_lists):\n",
        "  reversed_strings = [s[::-1] for s in string_lists]\n",
        "  return reversed_strings\n",
        "\n",
        "def reverse_string(string_lists):\n",
        "  return string_lists[::-1]\n",
        "\n",
        "reversed_string_lists = reverse_string_in_list(lt3)\n",
        "reversed_string = reverse_string(lt3)\n",
        "\n",
        "print(\"Original list: \" , lt3)\n",
        "print(\"Reversed string list is: \", lt3)\n",
        "print(\"Reversed string is: \", lt3)"
      ],
      "metadata": {
        "colab": {
          "base_uri": "https://localhost:8080/"
        },
        "id": "UStf_mVl5AJ1",
        "outputId": "0368c5be-a514-44e5-a7e5-b2e8ef269952"
      },
      "execution_count": null,
      "outputs": [
        {
          "output_type": "stream",
          "name": "stdout",
          "text": [
            "Original list:  ['Tutor', 'joes', 'Computer', 'Education']\n",
            "Reversed string list is:  ['Tutor', 'joes', 'Computer', 'Education']\n",
            "Reversed string is:  ['Tutor', 'joes', 'Computer', 'Education']\n"
          ]
        }
      ]
    },
    {
      "cell_type": "code",
      "source": [
        "##46\n"
      ],
      "metadata": {
        "id": "PZSzKszzbw_x"
      },
      "execution_count": null,
      "outputs": []
    }
  ]
}