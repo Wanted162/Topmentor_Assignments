{
  "nbformat": 4,
  "nbformat_minor": 0,
  "metadata": {
    "colab": {
      "provenance": []
    },
    "kernelspec": {
      "name": "python3",
      "display_name": "Python 3"
    },
    "language_info": {
      "name": "python"
    }
  },
  "cells": [
    {
      "cell_type": "code",
      "execution_count": null,
      "metadata": {
        "id": "t5dfWL4vWc5J"
      },
      "outputs": [],
      "source": [
        "##List Exercise"
      ]
    },
    {
      "cell_type": "code",
      "source": [
        "## 1\n",
        "numbers = [1,7,-10,34,2,-8]\n",
        "total_sum = sum(numbers)\n",
        "print(f\"Sum all the items =  {total_sum}\")"
      ],
      "metadata": {
        "colab": {
          "base_uri": "https://localhost:8080/"
        },
        "id": "JZWnT6BKyx_S",
        "outputId": "f478da3f-ac9c-4ff6-9848-deeafb49cec0"
      },
      "execution_count": null,
      "outputs": [
        {
          "output_type": "stream",
          "name": "stdout",
          "text": [
            "Sum all the items =  26\n"
          ]
        }
      ]
    },
    {
      "cell_type": "code",
      "source": [
        "## 2\n",
        "numbers2 = [3,4,5,4,7]\n",
        "product = 1\n",
        "\n",
        "for num in numbers2:\n",
        "  product *= num\n",
        "\n",
        "print(f\"Multiplication all the items =  {product}\")"
      ],
      "metadata": {
        "colab": {
          "base_uri": "https://localhost:8080/"
        },
        "id": "743z4fXBzPSx",
        "outputId": "c3b2884a-2211-4ac5-e51c-a69146ee918d"
      },
      "execution_count": null,
      "outputs": [
        {
          "output_type": "stream",
          "name": "stdout",
          "text": [
            "Multiplication all the items =  1680\n"
          ]
        }
      ]
    },
    {
      "cell_type": "code",
      "source": [
        "## 3\n",
        "numbers3 = [1,7,10,34,2,8]\n",
        "max_num = max(numbers3)\n",
        "\n",
        "print(f\"Largest number = {max_num}\")"
      ],
      "metadata": {
        "colab": {
          "base_uri": "https://localhost:8080/"
        },
        "id": "6FOrM9YJzpoa",
        "outputId": "9f3a6e0d-cffa-4246-8e61-0c7b410d588e"
      },
      "execution_count": null,
      "outputs": [
        {
          "output_type": "stream",
          "name": "stdout",
          "text": [
            "Largest number = 34\n"
          ]
        }
      ]
    },
    {
      "cell_type": "code",
      "source": [
        "##4\n",
        "numbers4 = [51,7,10,34,2,8]\n",
        "min_num = min(numbers4)\n",
        "\n",
        "print(f\"Smallest number = {min_num}\")"
      ],
      "metadata": {
        "colab": {
          "base_uri": "https://localhost:8080/"
        },
        "id": "AyZyUWxr02VJ",
        "outputId": "d6c70d6f-e83e-4aeb-b14b-e79a24dbfd89"
      },
      "execution_count": null,
      "outputs": [
        {
          "output_type": "stream",
          "name": "stdout",
          "text": [
            "Smallest number = 2\n"
          ]
        }
      ]
    },
    {
      "cell_type": "code",
      "source": [
        "##5\n",
        "str1 = ['abc', 'xyz', 'aba', '1221']\n",
        "count = 0\n",
        "\n",
        "for string in str1:\n",
        "  if len(string) >= 2 and string[0] == string[-1]:\n",
        "    count += 1\n",
        "\n",
        "print(f\"First and Last character are same: {count}\")"
      ],
      "metadata": {
        "colab": {
          "base_uri": "https://localhost:8080/"
        },
        "id": "JkBSndtO1NpI",
        "outputId": "0947466a-5f00-4487-803f-282f09b57d1c"
      },
      "execution_count": null,
      "outputs": [
        {
          "output_type": "stream",
          "name": "stdout",
          "text": [
            "First and Last character are same: 2\n"
          ]
        }
      ]
    },
    {
      "cell_type": "code",
      "source": [
        "##6\n",
        "numbers5 = [1,2,3,7,2,1,5,6,4,8,5,4]\n",
        "unique_num = set(numbers5)\n",
        "\n",
        "print(f\"unique numbers = {unique_num}\")"
      ],
      "metadata": {
        "colab": {
          "base_uri": "https://localhost:8080/"
        },
        "id": "cKwAw7Jt2zuW",
        "outputId": "0638fc3d-0cd3-457c-c4bf-3468c6b4a9b1"
      },
      "execution_count": null,
      "outputs": [
        {
          "output_type": "stream",
          "name": "stdout",
          "text": [
            "unique numbers = {1, 2, 3, 4, 5, 6, 7, 8}\n"
          ]
        }
      ]
    },
    {
      "cell_type": "code",
      "source": [
        "##7\n",
        "list1 = [34,45,6,5,4,56,7]\n",
        "\n",
        "if not list1:\n",
        "  print(\"List is empty\")\n",
        "else:\n",
        "  print(\"list is not empty\")"
      ],
      "metadata": {
        "colab": {
          "base_uri": "https://localhost:8080/"
        },
        "id": "ejjKKf583h64",
        "outputId": "7b727076-fae1-4118-887e-02111062f8be"
      },
      "execution_count": null,
      "outputs": [
        {
          "output_type": "stream",
          "name": "stdout",
          "text": [
            "list is not empty\n"
          ]
        }
      ]
    },
    {
      "cell_type": "code",
      "source": [
        "##8\n",
        "list2 = [10, 22, 44, 23, 4]\n",
        "lists = list2.copy()\n",
        "print(\"Clone or copy a list\", lists)"
      ],
      "metadata": {
        "colab": {
          "base_uri": "https://localhost:8080/"
        },
        "id": "QS9kX_-74Kxg",
        "outputId": "409d67d6-3051-431b-ddc9-a7292c39e796"
      },
      "execution_count": null,
      "outputs": [
        {
          "output_type": "stream",
          "name": "stdout",
          "text": [
            "Clone or copy a list [10, 22, 44, 23, 4]\n"
          ]
        }
      ]
    },
    {
      "cell_type": "code",
      "source": [
        "##9\n",
        "str2 = ['Words', 'Longer', 'given', 'Words']\n",
        "count = 0\n",
        "n=4\n",
        "for string in str2:\n",
        "  if len(string) > n:\n",
        "    count += 1\n",
        "\n",
        "print(\"words longer than n are:\", count)"
      ],
      "metadata": {
        "colab": {
          "base_uri": "https://localhost:8080/"
        },
        "id": "ZDWlSf9V4j2D",
        "outputId": "2f973a6c-51a4-4fec-a665-9fa425ad5876"
      },
      "execution_count": null,
      "outputs": [
        {
          "output_type": "stream",
          "name": "stdout",
          "text": [
            "words longer than n are: 4\n"
          ]
        }
      ]
    },
    {
      "cell_type": "code",
      "source": [
        "##10\n",
        "str3 = [1,2,3,4,5]\n",
        "str4 = [5,6,7,8,9]\n",
        "\n",
        "common_member = False\n",
        "\n",
        "for item in str3:\n",
        "  if item in str4:\n",
        "    common_member = True\n",
        "    break\n",
        "\n",
        "if common_member:\n",
        "    print(\"List have atleast one common member\")\n",
        "else:\n",
        "    print(\"List do not have common member\")"
      ],
      "metadata": {
        "colab": {
          "base_uri": "https://localhost:8080/"
        },
        "id": "9wredps86lRh",
        "outputId": "ab28d2a2-0623-4ea0-f703-c56d23418cb8"
      },
      "execution_count": null,
      "outputs": [
        {
          "output_type": "stream",
          "name": "stdout",
          "text": [
            "List have atleast one common member\n"
          ]
        }
      ]
    },
    {
      "cell_type": "code",
      "source": [],
      "metadata": {
        "id": "wEwWq1_lCRrz"
      },
      "execution_count": null,
      "outputs": []
    }
  ]
}