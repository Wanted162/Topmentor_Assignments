{
  "nbformat": 4,
  "nbformat_minor": 0,
  "metadata": {
    "colab": {
      "provenance": []
    },
    "kernelspec": {
      "name": "python3",
      "display_name": "Python 3"
    },
    "language_info": {
      "name": "python"
    }
  },
  "cells": [
    {
      "cell_type": "code",
      "execution_count": 1,
      "metadata": {
        "id": "5Vyn8Kw-MTJa"
      },
      "outputs": [],
      "source": [
        "import pandas as pd\n",
        "import joblib"
      ]
    },
    {
      "cell_type": "code",
      "source": [
        "##load the trained model\n",
        "model = joblib.load(\"/content/iphone_purchase_model.pkl\")"
      ],
      "metadata": {
        "id": "sGjINHcKMiN_"
      },
      "execution_count": 2,
      "outputs": []
    },
    {
      "cell_type": "code",
      "source": [
        "##make new dataset for prediction\n",
        "new_data = pd.DataFrame({\n",
        "    'Gender': ['Male', 'Female'],\n",
        "    'Age': [30, 40],\n",
        "    'Salary': [87000, 65000]\n",
        "})\n",
        "\n",
        "new_data = pd.get_dummies(new_data, drop_first=True)"
      ],
      "metadata": {
        "id": "uympR_MsMvHB"
      },
      "execution_count": 4,
      "outputs": []
    },
    {
      "cell_type": "code",
      "source": [
        "##Predictions\n",
        "predictions = model.predict(new_data)\n",
        "print(\"Predcition of new data is: \")\n",
        "print(predictions)"
      ],
      "metadata": {
        "colab": {
          "base_uri": "https://localhost:8080/"
        },
        "id": "ff_IW_NnSmDm",
        "outputId": "d1dcbff1-da61-4502-9971-77e17b748254"
      },
      "execution_count": 6,
      "outputs": [
        {
          "output_type": "stream",
          "name": "stdout",
          "text": [
            "Predcition of new data is: \n",
            "[0 0]\n"
          ]
        }
      ]
    },
    {
      "cell_type": "code",
      "source": [],
      "metadata": {
        "id": "6sQxwYR2iLZ3"
      },
      "execution_count": null,
      "outputs": []
    }
  ]
}