{
  "nbformat": 4,
  "nbformat_minor": 0,
  "metadata": {
    "colab": {
      "provenance": []
    },
    "kernelspec": {
      "name": "python3",
      "display_name": "Python 3"
    },
    "language_info": {
      "name": "python"
    }
  },
  "cells": [
    {
      "cell_type": "code",
      "execution_count": null,
      "metadata": {
        "id": "8KAHBEFmZqS8",
        "colab": {
          "base_uri": "https://localhost:8080/"
        },
        "outputId": "777eb8fd-2a6b-44dd-a81a-abf75fc16385"
      },
      "outputs": [
        {
          "output_type": "stream",
          "name": "stdout",
          "text": [
            "Enter Ramesh's basic salary: 200000\n",
            "Ramesh's gross salary is: 320000.00\n"
          ]
        }
      ],
      "source": [
        "##1 calculate gross salary\n",
        "\n",
        "def calculate_gross_salary(basic_salary):\n",
        "    # Calculate the dearness allowance (40% of basic salary)\n",
        "    dearness_allowance = 0.40 * basic_salary\n",
        "    # Calculate the house rent allowance (20% of basic salary)\n",
        "    house_rent_allowance = 0.20 * basic_salary\n",
        "    # Calculate the gross salary\n",
        "    gross_salary = basic_salary + dearness_allowance + house_rent_allowance\n",
        "    return gross_salary\n",
        "\n",
        "def main():\n",
        "    try:\n",
        "        # Input basic salary from the user\n",
        "        basic_salary = float(input(\"Enter Ramesh's basic salary: \"))\n",
        "        # Calculate the gross salary\n",
        "        gross_salary = calculate_gross_salary(basic_salary)\n",
        "        # Print the gross salary\n",
        "        print(f\"Ramesh's gross salary is: {gross_salary:.2f}\")\n",
        "    except ValueError:\n",
        "        print(\"Invalid input. Please enter a numeric value.\")\n",
        "\n",
        "main()\n"
      ]
    },
    {
      "cell_type": "code",
      "source": [
        "##2 Calculate distance between tow locations\n",
        "\n",
        "def convert_distance(distance_km):\n",
        "    # Conversion factors\n",
        "    meters_per_km = 1000\n",
        "    feet_per_meter = 3.28084\n",
        "    inches_per_foot = 12\n",
        "    cm_per_meter = 100\n",
        "\n",
        "    # Conversions\n",
        "    distance_meters = distance_km * meters_per_km\n",
        "    distance_feet = distance_meters * feet_per_meter\n",
        "    distance_inches = distance_feet * inches_per_foot\n",
        "    distance_cm = distance_meters * cm_per_meter\n",
        "\n",
        "    return distance_meters, distance_feet, distance_inches, distance_cm\n",
        "\n",
        "def main():\n",
        "    try:\n",
        "        # Input distance in kilometers from the user\n",
        "        distance_km = float(input(\"Enter the distance between two cities in kilometers: \"))\n",
        "        # Convert the distance\n",
        "        distance_meters, distance_feet, distance_inches, distance_cm = convert_distance(distance_km)\n",
        "        # Print the converted distances\n",
        "        print(f\"Distance in meters: {distance_meters:.2f} m\")\n",
        "        print(f\"Distance in feet: {distance_feet:.2f} ft\")\n",
        "        print(f\"Distance in inches: {distance_inches:.2f} in\")\n",
        "        print(f\"Distance in centimeters: {distance_cm:.2f} cm\")\n",
        "    except ValueError:\n",
        "        print(\"Invalid input. Please enter a numeric value.\")\n",
        "\n",
        "main()\n"
      ],
      "metadata": {
        "colab": {
          "base_uri": "https://localhost:8080/"
        },
        "id": "KE5cLxcRCFzu",
        "outputId": "ffa5b3f6-7add-4124-9430-4678238c7870"
      },
      "execution_count": null,
      "outputs": [
        {
          "output_type": "stream",
          "name": "stdout",
          "text": [
            "Enter the distance between two cities in kilometers: 30\n",
            "Distance in meters: 30000.00 m\n",
            "Distance in feet: 98425.20 ft\n",
            "Distance in inches: 1181102.40 in\n",
            "Distance in centimeters: 3000000.00 cm\n"
          ]
        }
      ]
    },
    {
      "cell_type": "code",
      "source": [
        "##3 Aggregate and percentage of marks\n",
        "\n",
        "def calculate_aggregate_and_percentage(marks):\n",
        "    # Calculate the aggregate marks\n",
        "    aggregate_marks = sum(marks)\n",
        "    # Calculate the percentage marks\n",
        "    percentage_marks = (aggregate_marks / (len(marks) * 100)) * 100\n",
        "    return aggregate_marks, percentage_marks\n",
        "\n",
        "def main():\n",
        "    try:\n",
        "        # Input marks for five subjects from the user\n",
        "        marks = []\n",
        "        for i in range(1, 6):\n",
        "            mark = float(input(f\"Enter the marks obtained in subject {i} (out of 100): \"))\n",
        "            if mark < 0 or mark > 100:\n",
        "                print(\"Invalid input. Marks should be between 0 and 100.\")\n",
        "                return\n",
        "            marks.append(mark)\n",
        "\n",
        "        # Calculate aggregate and percentage marks\n",
        "        aggregate_marks, percentage_marks = calculate_aggregate_and_percentage(marks)\n",
        "\n",
        "        # Print the aggregate and percentage marks\n",
        "        print(f\"Aggregate marks: {aggregate_marks:.2f}\")\n",
        "        print(f\"Percentage marks: {percentage_marks:.2f}%\")\n",
        "    except ValueError:\n",
        "        print(\"Invalid input. Please enter numeric values.\")\n",
        "\n",
        "main()\n"
      ],
      "metadata": {
        "colab": {
          "base_uri": "https://localhost:8080/"
        },
        "id": "GC07sZf_DP6a",
        "outputId": "3387c2fc-f2f1-488b-e91a-742679c59c74"
      },
      "execution_count": null,
      "outputs": [
        {
          "output_type": "stream",
          "name": "stdout",
          "text": [
            "Enter the marks obtained in subject 1 (out of 100): 78\n",
            "Enter the marks obtained in subject 2 (out of 100): 79\n",
            "Enter the marks obtained in subject 3 (out of 100): 57\n",
            "Enter the marks obtained in subject 4 (out of 100): 98\n",
            "Enter the marks obtained in subject 5 (out of 100): 48\n",
            "Aggregate marks: 360.00\n",
            "Percentage marks: 72.00%\n"
          ]
        }
      ]
    },
    {
      "cell_type": "code",
      "source": [
        "##4 Farenheit to celsius\n",
        "\n",
        "def main():\n",
        "    try:\n",
        "        # Input temperature in Fahrenheit from the user\n",
        "        fahrenheit = float(input(\"Enter the temperature in Fahrenheit: \"))\n",
        "\n",
        "        # Convert the temperature to Celsius\n",
        "        celsius = (fahrenheit - 32) * 5 / 9\n",
        "\n",
        "        # Print the temperature in Celsius\n",
        "        print(f\"The temperature in Celsius is: {celsius:.2f}°C\")\n",
        "    except ValueError:\n",
        "        print(\"Invalid input. Please enter a numeric value.\")\n",
        "\n",
        "main()\n"
      ],
      "metadata": {
        "colab": {
          "base_uri": "https://localhost:8080/"
        },
        "id": "98yZ3e34W9w7",
        "outputId": "5e1749a4-838b-41a8-bb81-3796ac3eb2fb"
      },
      "execution_count": null,
      "outputs": [
        {
          "output_type": "stream",
          "name": "stdout",
          "text": [
            "Enter the temperature in Fahrenheit: 45\n",
            "The temperature in Celsius is: 7.22°C\n"
          ]
        }
      ]
    },
    {
      "cell_type": "code",
      "source": [
        "##5 calculation of area & perimeter of the rectangle, and the area & circumference of the circle.\n",
        "\n",
        "import math\n",
        "\n",
        "def main():\n",
        "    try:\n",
        "        # Input length and breadth of the rectangle\n",
        "        length = float(input(\"Enter the length of the rectangle: \"))\n",
        "        breadth = float(input(\"Enter the breadth of the rectangle: \"))\n",
        "\n",
        "        # Calculate area and perimeter of the rectangle\n",
        "        area_rectangle = length * breadth\n",
        "        perimeter_rectangle = 2 * (length + breadth)\n",
        "\n",
        "        # Input radius of the circle\n",
        "        radius = float(input(\"Enter the radius of the circle: \"))\n",
        "\n",
        "        # Calculate area and circumference of the circle\n",
        "        area_circle = math.pi * radius * radius\n",
        "        circumference_circle = 2 * math.pi * radius\n",
        "\n",
        "        # Print the results\n",
        "        print(f\"Area of the rectangle: {area_rectangle:.2f}\")\n",
        "        print(f\"Perimeter of the rectangle: {perimeter_rectangle:.2f}\")\n",
        "        print(f\"Area of the circle: {area_circle:.2f}\")\n",
        "        print(f\"Circumference of the circle: {circumference_circle:.2f}\")\n",
        "\n",
        "    except ValueError:\n",
        "        print(\"Invalid input. Please enter numeric values.\")\n",
        "\n",
        "main()\n"
      ],
      "metadata": {
        "id": "FA-qdaA2Xgpb",
        "colab": {
          "base_uri": "https://localhost:8080/"
        },
        "outputId": "a8be7c35-0213-4f8c-f5d2-3d8e9b068099"
      },
      "execution_count": 1,
      "outputs": [
        {
          "output_type": "stream",
          "name": "stdout",
          "text": [
            "Enter the length of the rectangle: 23\n",
            "Enter the breadth of the rectangle: 23\n",
            "Enter the radius of the circle: 23\n",
            "Area of the rectangle: 529.00\n",
            "Perimeter of the rectangle: 92.00\n",
            "Area of the circle: 1661.90\n",
            "Circumference of the circle: 144.51\n"
          ]
        }
      ]
    },
    {
      "cell_type": "code",
      "source": [
        "##6 Interchange the content of 2 variables\n",
        "\n",
        "def main():\n",
        "    try:\n",
        "        # Input two numbers into variables C and D\n",
        "        C = float(input(\"Enter the value for C: \"))\n",
        "        D = float(input(\"Enter the value for D: \"))\n",
        "\n",
        "        # Print original values\n",
        "        print(f\"Original values - C: {C}, D: {D}\")\n",
        "\n",
        "        # Interchange the contents of C and D\n",
        "        C, D = D, C\n",
        "\n",
        "        # Print interchanged values\n",
        "        print(f\"After interchange - C: {C}, D: {D}\")\n",
        "    except ValueError:\n",
        "        print(\"Invalid input. Please enter numeric values.\")\n",
        "\n",
        "main()\n"
      ],
      "metadata": {
        "colab": {
          "base_uri": "https://localhost:8080/"
        },
        "id": "tWuFrCRMhkNr",
        "outputId": "423bca83-4208-436c-dd3b-5fadc26a931c"
      },
      "execution_count": 2,
      "outputs": [
        {
          "output_type": "stream",
          "name": "stdout",
          "text": [
            "Enter the value for C: 2\n",
            "Enter the value for D: 3\n",
            "Original values - C: 2.0, D: 3.0\n",
            "After interchange - C: 3.0, D: 2.0\n"
          ]
        }
      ]
    },
    {
      "cell_type": "code",
      "source": [
        "##7 sum of 5 digit number\n",
        "\n",
        "def main():\n",
        "    try:\n",
        "        # Input a five-digit number from the user\n",
        "        number = int(input(\"Enter a five-digit number: \"))\n",
        "\n",
        "        # Check if the input number is a five-digit number\n",
        "        if 10000 <= number <= 99999:\n",
        "            # Calculate the sum of its digits\n",
        "            sum_of_digits = 0\n",
        "            for digit in str(number):\n",
        "                sum_of_digits += int(digit)\n",
        "\n",
        "            # Print the sum of the digits\n",
        "            print(f\"The sum of the digits of the number {number} is: {sum_of_digits}\")\n",
        "        else:\n",
        "            print(\"Invalid input. Please enter a five-digit number.\")\n",
        "    except ValueError:\n",
        "        print(\"Invalid input. Please enter a numeric value.\")\n",
        "\n",
        "main()\n"
      ],
      "metadata": {
        "colab": {
          "base_uri": "https://localhost:8080/"
        },
        "id": "nDYgy8lriXri",
        "outputId": "4aa2a80d-d2e0-4c8e-c325-504687f68455"
      },
      "execution_count": 3,
      "outputs": [
        {
          "output_type": "stream",
          "name": "stdout",
          "text": [
            "Enter a five-digit number: 23456\n",
            "The sum of the digits of the number 23456 is: 20\n"
          ]
        }
      ]
    },
    {
      "cell_type": "code",
      "source": [
        "##8 reverse 5 digit number\n",
        "\n",
        "def main():\n",
        "  try:\n",
        "    number = int(input(\"Enter any five digit number: \"))\n",
        "\n",
        "    if 10000 <= number <= 99999:\n",
        "      reverse_number = int(str(number)[::-1])\n",
        "\n",
        "      print(f\"The reversed number is: {reverse_number}\")\n",
        "    else:\n",
        "      print(\"Invalid input! Please enter five digit number\")\n",
        "  except ValueError:\n",
        "      print(\"Invalid input! Please enter numeric value\")\n",
        "\n",
        "main()"
      ],
      "metadata": {
        "colab": {
          "base_uri": "https://localhost:8080/"
        },
        "id": "HQlqWMefkg2f",
        "outputId": "1706e30b-be41-4514-be55-2814f319d7d2"
      },
      "execution_count": 8,
      "outputs": [
        {
          "output_type": "stream",
          "name": "stdout",
          "text": [
            "Enter any five digit number: 45678\n",
            "The reversed number is: 87654\n"
          ]
        }
      ]
    },
    {
      "cell_type": "code",
      "source": [
        "##9 addition of first and last digit of 4-digit number\n",
        "\n",
        "def main():\n",
        "    try:\n",
        "        # Input a four-digit number from the user\n",
        "        number = int(input(\"Enter a four-digit number: \"))\n",
        "\n",
        "        # Check if the input number is a four-digit number\n",
        "        if 1000 <= number <= 9999:\n",
        "            # Convert the number to a string to access the digits\n",
        "            number_str = str(number)\n",
        "\n",
        "            # Extract the first and last digits\n",
        "            first_digit = int(number_str[0])\n",
        "            last_digit = int(number_str[-1])\n",
        "\n",
        "            # Calculate the sum of the first and last digits\n",
        "            sum_of_digits = first_digit + last_digit\n",
        "\n",
        "            # Print the sum of the first and last digits\n",
        "            print(f\"The sum of the first and last digits of the number {number} is: {sum_of_digits}\")\n",
        "        else:\n",
        "            print(\"Invalid input. Please enter a four-digit number.\")\n",
        "    except ValueError:\n",
        "        print(\"Invalid input. Please enter a numeric value.\")\n",
        "\n",
        "main()\n"
      ],
      "metadata": {
        "colab": {
          "base_uri": "https://localhost:8080/"
        },
        "id": "FGt4sg1DlupK",
        "outputId": "d309343e-ca00-42b2-9fda-2b6abf4500f9"
      },
      "execution_count": 9,
      "outputs": [
        {
          "output_type": "stream",
          "name": "stdout",
          "text": [
            "Enter a four-digit number: 2345\n",
            "The sum of the first and last digits of the number 2345 is: 7\n"
          ]
        }
      ]
    },
    {
      "cell_type": "code",
      "source": [
        "##10 literate and illerate genders of total population\n",
        "\n",
        "def main():\n",
        "    # Given data\n",
        "    total_population = 80000\n",
        "    percentage_men = 52\n",
        "    percentage_total_literacy = 48\n",
        "    percentage_literate_men = 35\n",
        "\n",
        "    # Calculate the number of men and women\n",
        "    total_men = (percentage_men / 100) * total_population\n",
        "    total_women = total_population - total_men\n",
        "\n",
        "    # Calculate the number of literate men and total literate people\n",
        "    literate_men = (percentage_literate_men / 100) * total_population\n",
        "    total_literate = (percentage_total_literacy / 100) * total_population\n",
        "\n",
        "    # Calculate the number of literate women\n",
        "    literate_women = total_literate - literate_men\n",
        "\n",
        "    # Calculate the number of illiterate men and women\n",
        "    illiterate_men = total_men - literate_men\n",
        "    illiterate_women = total_women - literate_women\n",
        "\n",
        "    # Print the results\n",
        "    print(f\"Total number of illiterate men: {int(illiterate_men)}\")\n",
        "    print(f\"Total number of illiterate women: {int(illiterate_women)}\")\n",
        "\n",
        "main()\n"
      ],
      "metadata": {
        "colab": {
          "base_uri": "https://localhost:8080/"
        },
        "id": "uHfOL_BfsOVZ",
        "outputId": "b5a50e17-fb74-40c7-e7c9-8b934f5ec8e1"
      },
      "execution_count": 10,
      "outputs": [
        {
          "output_type": "stream",
          "name": "stdout",
          "text": [
            "Total number of illiterate men: 13600\n",
            "Total number of illiterate women: 28000\n"
          ]
        }
      ]
    },
    {
      "cell_type": "code",
      "source": [
        "##11 claculate total number of currency notes in 10s,50s and 100s\n",
        "\n",
        "def main():\n",
        "    try:\n",
        "        # Input the amount to be withdrawn in hundreds\n",
        "        amount = int(input(\"Enter the amount to be withdrawn (in hundreds): \")) * 100\n",
        "\n",
        "        if amount % 10 != 0:\n",
        "            print(\"Invalid input. The amount should be in multiples of 10.\")\n",
        "            return\n",
        "\n",
        "        # Calculate the number of 100 currency notes\n",
        "        num_100 = amount // 100\n",
        "        remaining_amount_100 = amount % 100\n",
        "\n",
        "        # Calculate the number of 50 currency notes\n",
        "        num_50 = remaining_amount_100 // 50\n",
        "        remaining_amount_50 = remaining_amount_100 % 50\n",
        "\n",
        "        # Calculate the number of 10 currency notes\n",
        "        num_10 = remaining_amount_50 // 10\n",
        "\n",
        "        # Print the number of each currency note\n",
        "        print(f\"Number of 100 currency notes: {num_100}\")\n",
        "        print(f\"Number of 50 currency notes: {num_50}\")\n",
        "        print(f\"Number of 10 currency notes: {num_10}\")\n",
        "    except ValueError:\n",
        "        print(\"Invalid input. Please enter a numeric value.\")\n",
        "\n",
        "main()\n"
      ],
      "metadata": {
        "colab": {
          "base_uri": "https://localhost:8080/"
        },
        "id": "e_raGgUzta_8",
        "outputId": "361aceca-8e06-4ace-ef97-14786d87fb48"
      },
      "execution_count": 14,
      "outputs": [
        {
          "output_type": "stream",
          "name": "stdout",
          "text": [
            "Enter the amount to be withdrawn (in hundreds): 478\n",
            "Number of 100 currency notes: 478\n",
            "Number of 50 currency notes: 0\n",
            "Number of 10 currency notes: 0\n"
          ]
        }
      ]
    },
    {
      "cell_type": "code",
      "source": [
        "##12 CP of per item\n",
        "\n",
        "def main():\n",
        "    try:\n",
        "        # Input total selling price and total profit\n",
        "        total_selling_price = float(input(\"Enter the total selling price of 15 items: \"))\n",
        "        total_profit = float(input(\"Enter the total profit earned on 15 items: \"))\n",
        "\n",
        "        # Calculate the total cost price of 15 items\n",
        "        total_cost_price = total_selling_price - total_profit\n",
        "\n",
        "        # Calculate the cost price of one item\n",
        "        cost_price_per_item = total_cost_price / 15\n",
        "\n",
        "        # Print the cost price of one item\n",
        "        print(f\"The cost price of one item is: {cost_price_per_item:.2f}\")\n",
        "    except ValueError:\n",
        "        print(\"Invalid input. Please enter numeric values.\")\n",
        "\n",
        "main()\n"
      ],
      "metadata": {
        "colab": {
          "base_uri": "https://localhost:8080/"
        },
        "id": "JIEpH9vEvaqi",
        "outputId": "19433f80-38ef-4bb9-d2f7-015e0b37c9f5"
      },
      "execution_count": 15,
      "outputs": [
        {
          "output_type": "stream",
          "name": "stdout",
          "text": [
            "Enter the total selling price of 15 items: 45\n",
            "Enter the total profit earned on 15 items: 45\n",
            "The cost price of one item is: 0.00\n"
          ]
        }
      ]
    },
    {
      "cell_type": "code",
      "source": [
        "##13 print a new number by adding one of its digits\n",
        "\n",
        "def main():\n",
        "    try:\n",
        "        # Input a five-digit number from the user\n",
        "        number = int(input(\"Enter a five-digit number: \"))\n",
        "\n",
        "        # Check if the input number is a five-digit number\n",
        "        if 10000 <= number <= 99999:\n",
        "            # Convert the number to a string to access the digits\n",
        "            number_str = str(number)\n",
        "\n",
        "            # Initialize an empty string to store the new number\n",
        "            new_number_str = \"\"\n",
        "\n",
        "            # Loop through each digit in the original number\n",
        "            for digit in number_str:\n",
        "                # Add one to each digit and handle the wrap-around from 9 to 0\n",
        "                new_digit = (int(digit) + 1) % 10\n",
        "                # Append the new digit to the new number string\n",
        "                new_number_str += str(new_digit)\n",
        "\n",
        "            # Convert the new number string back to an integer\n",
        "            new_number = int(new_number_str)\n",
        "\n",
        "            # Print the new number\n",
        "            print(f\"The new number after adding one to each digit is: {new_number}\")\n",
        "        else:\n",
        "            print(\"Invalid input. Please enter a five-digit number.\")\n",
        "    except ValueError:\n",
        "        print(\"Invalid input. Please enter a numeric value.\")\n",
        "\n",
        "main()\n"
      ],
      "metadata": {
        "colab": {
          "base_uri": "https://localhost:8080/"
        },
        "id": "mLal2Omt19Qg",
        "outputId": "e13d24fd-a3ce-4b6f-a79e-106f78745064"
      },
      "execution_count": 16,
      "outputs": [
        {
          "output_type": "stream",
          "name": "stdout",
          "text": [
            "Enter a five-digit number: 34567\n",
            "The new number after adding one to each digit is: 45678\n"
          ]
        }
      ]
    },
    {
      "cell_type": "code",
      "source": [],
      "metadata": {
        "id": "Rmzcrpsa3m6J"
      },
      "execution_count": null,
      "outputs": []
    }
  ]
}