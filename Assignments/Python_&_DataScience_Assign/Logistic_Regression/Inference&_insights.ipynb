{
  "nbformat": 4,
  "nbformat_minor": 0,
  "metadata": {
    "colab": {
      "provenance": []
    },
    "kernelspec": {
      "name": "python3",
      "display_name": "Python 3"
    },
    "language_info": {
      "name": "python"
    }
  },
  "cells": [
    {
      "cell_type": "code",
      "execution_count": 2,
      "metadata": {
        "collapsed": true,
        "id": "zHucH5IiFYCl"
      },
      "outputs": [],
      "source": [
        "import joblib\n",
        "import pandas as pd\n",
        "# Load the model\n",
        "model = joblib.load('/content/logistic_regression_model.pkl')\n",
        "\n",
        "# Interpret the model coefficients\n",
        "coefficients = pd.DataFrame(model.coef_.T, index=X.columns, columns=['Coefficient'])\n",
        "print(\"Model Coefficients:\")\n",
        "print(coefficients)\n",
        "\n",
        "#interpretation based on hypothetical coefficients\n",
        "coefficients = pd.DataFrame(model.coef_.T, index=X.columns, columns=['Coefficient'])\n",
        "print(\"Model Coefficients:\")\n",
        "print(coefficients)\n",
        "\n",
        "# Positive and Negative Coefficients\n",
        "positive_features = coefficients[coefficients['Coefficient'] > 0]\n",
        "negative_features = coefficients[coefficients['Coefficient'] < 0]\n",
        "\n",
        "print(\"\\nPositive Influences on Subscription:\")\n",
        "print(positive_features)\n",
        "\n",
        "print(\"\\nNegative Influences on Subscription:\")\n",
        "print(negative_features)\n",
        "\n",
        "# Drawing Business Insights\n",
        "# Example: Age\n",
        "age_coeff = coefficients.loc['age', 'Coefficient']\n",
        "if age_coeff > 0:\n",
        "    print(f\"The likelihood of subscribing to a term deposit increases with age. Older clients should be targeted more.\")\n",
        "else:\n",
        "    print(f\"The likelihood of subscribing to a term deposit decreases with age. Younger clients should be targeted more.\")\n",
        "\n",
        "\n",
        "print(\"Inference and insights complete.\")\n"
      ]
    }
  ]
}