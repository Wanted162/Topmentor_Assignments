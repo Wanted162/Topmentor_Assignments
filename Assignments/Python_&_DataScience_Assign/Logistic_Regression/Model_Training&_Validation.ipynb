{
  "nbformat": 4,
  "nbformat_minor": 0,
  "metadata": {
    "colab": {
      "provenance": []
    },
    "kernelspec": {
      "name": "python3",
      "display_name": "Python 3"
    },
    "language_info": {
      "name": "python"
    }
  },
  "cells": [
    {
      "cell_type": "code",
      "execution_count": 5,
      "metadata": {
        "colab": {
          "base_uri": "https://localhost:8080/"
        },
        "id": "kL7tYNaGBbTm",
        "outputId": "8555505d-88e3-41b2-c0cc-d0cec643d70a"
      },
      "outputs": [
        {
          "output_type": "stream",
          "name": "stdout",
          "text": [
            "Index(['age', 'job', 'marital', 'education', 'default', 'balance', 'housing',\n",
            "       'loan', 'contact', 'day', 'month', 'duration', 'campaign', 'pdays',\n",
            "       'previous', 'poutcome', 'y'],\n",
            "      dtype='object')\n",
            "Model Accuracy: 0.89\n",
            "Confusion Matrix:\n",
            "[[7793  159]\n",
            " [ 854  237]]\n",
            "Classification Report:\n",
            "              precision    recall  f1-score   support\n",
            "\n",
            "           0       0.90      0.98      0.94      7952\n",
            "           1       0.60      0.22      0.32      1091\n",
            "\n",
            "    accuracy                           0.89      9043\n",
            "   macro avg       0.75      0.60      0.63      9043\n",
            "weighted avg       0.86      0.89      0.86      9043\n",
            "\n",
            "Model training and validation complete. The model has been saved.\n"
          ]
        }
      ],
      "source": [
        "import pandas as pd\n",
        "from sklearn.model_selection import train_test_split\n",
        "from sklearn.preprocessing import StandardScaler\n",
        "from sklearn.linear_model import LogisticRegression\n",
        "from sklearn.metrics import accuracy_score, confusion_matrix, classification_report\n",
        "\n",
        "# Load the preprocessed data\n",
        "data = pd.read_csv('/content/preprocessed_bank_data.csv')\n",
        "\n",
        "# Print the column names to find the correct target variable name\n",
        "print(data.columns)\n",
        "\n",
        "# Split the data into features and target\n",
        "# Replace 'y' with the actual name of your target variable column\n",
        "X = data.drop('y', axis=1)\n",
        "y = data['y']\n",
        "\n",
        "# Split the data into training and testing sets\n",
        "X_train, X_test, y_train, y_test = train_test_split(X, y, test_size=0.2, random_state=42)\n",
        "\n",
        "# Standardize the features\n",
        "scaler = StandardScaler()\n",
        "X_train = scaler.fit_transform(X_train)\n",
        "X_test = scaler.transform(X_test)\n",
        "\n",
        "# Train a logistic regression model\n",
        "model = LogisticRegression()\n",
        "model.fit(X_train, y_train)\n",
        "\n",
        "# Predict on the test set\n",
        "y_pred = model.predict(X_test)\n",
        "\n",
        "# Evaluate the model\n",
        "accuracy = accuracy_score(y_test, y_pred)\n",
        "conf_matrix = confusion_matrix(y_test, y_pred)\n",
        "class_report = classification_report(y_test, y_pred)\n",
        "\n",
        "print(f\"Model Accuracy: {accuracy:.2f}\")\n",
        "print(\"Confusion Matrix:\")\n",
        "print(conf_matrix)\n",
        "print(\"Classification Report:\")\n",
        "print(class_report)\n",
        "\n",
        "# Save the model\n",
        "import joblib\n",
        "joblib.dump(model, 'logistic_regression_model.pkl')\n",
        "\n",
        "print(\"Model training and validation complete. The model has been saved.\")"
      ]
    },
    {
      "cell_type": "code",
      "source": [],
      "metadata": {
        "id": "PXjVISpOB-uG"
      },
      "execution_count": null,
      "outputs": []
    }
  ]
}