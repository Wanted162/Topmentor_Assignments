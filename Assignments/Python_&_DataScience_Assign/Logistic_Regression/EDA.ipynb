{
  "nbformat": 4,
  "nbformat_minor": 0,
  "metadata": {
    "colab": {
      "provenance": []
    },
    "kernelspec": {
      "name": "python3",
      "display_name": "Python 3"
    },
    "language_info": {
      "name": "python"
    }
  },
  "cells": [
    {
      "cell_type": "code",
      "execution_count": null,
      "metadata": {
        "id": "HkgqPPoVE-ux"
      },
      "outputs": [],
      "source": [
        "# Import necessary libraries\n",
        "import pandas as pd\n",
        "import seaborn as sns\n",
        "import matplotlib.pyplot as plt\n",
        "\n",
        "# Load the preprocessed data\n",
        "data = pd.read_csv('/content/preprocessed_bank_data.csv')\n",
        "\n",
        "# Pairplot to visualize relationships\n",
        "sns.pairplot(data)\n",
        "plt.savefig('/mnt/data/eda_graphs/pairplot.png')\n",
        "\n",
        "# Correlation matrix\n",
        "plt.figure(figsize=(12, 8))\n",
        "sns.heatmap(data.corr(), annot=True, cmap='coolwarm')\n",
        "plt.title('Correlation Matrix')\n",
        "plt.savefig('/mnt/data/eda_graphs/correlation_matrix.png')\n",
        "\n",
        "# Distribution of the target variable\n",
        "sns.countplot(x='y', data=data)\n",
        "plt.title('Distribution of Target Variable')\n",
        "plt.savefig('/mnt/data/eda_graphs/target_distribution.png')\n",
        "\n",
        "print(\"EDA complete. The graphs have been saved.\")\n"
      ]
    }
  ]
}